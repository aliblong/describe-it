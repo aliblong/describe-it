{
 "cells": [
  {
   "cell_type": "code",
   "execution_count": 2,
   "metadata": {},
   "outputs": [],
   "source": [
    "import os\n",
    "import sys\n",
    "import regex as re\n",
    "import logging\n",
    "\n",
    "import requests\n",
    "from bs4 import BeautifulSoup\n",
    "\n",
    "import numpy as np\n",
    "import nltk as nl\n",
    "import pandas as pd\n",
    "import sklearn as sk\n",
    "\n",
    "from sqlalchemy import create_engine\n",
    "from sqlalchemy_utils import database_exists, create_database\n",
    "\n",
    "from dotenv import load_dotenv, find_dotenv\n",
    "#load_dotenv(find_dotenv())"
   ]
  },
  {
   "cell_type": "code",
   "execution_count": null,
   "metadata": {},
   "outputs": [],
   "source": [
    "def parse_ad(html): # Parses ad html trees and sorts relevant data into a dictionary\n",
    "    ad_info = {}\n",
    "\n",
    "    #description = html.find('div', {\"class\": \"description\"}).text.strip()\n",
    "    #description = description.replace(html.find('div', {\"class\": \"details\"}).text.strip(), '')\n",
    "    #print(description)\n",
    "    try:\n",
    "        ad_info[\"Title\"] = html.find('a', {\"class\": \"title\"}).text.strip()\n",
    "    except:\n",
    "        logging.error('Unable to parse Title data.')\n",
    "\n",
    "    try:\n",
    "        ad_info[\"Image\"] = str(html.find('img'))\n",
    "    except:\n",
    "        logging.error('Unable to parse Image data')\n",
    "\n",
    "    try:\n",
    "        ad_info[\"Url\"] = 'http://www.kijiji.ca' + html.get(\"data-vip-url\")\n",
    "    except:\n",
    "        logging.error('Unable to parse URL data.')\n",
    "\n",
    "    try:\n",
    "        ad_info[\"Details\"] = html.find('div', {\"class\": \"details\"}).text.strip()\n",
    "    except:\n",
    "        logging.error('Unable to parse Details data.')\n",
    "\n",
    "    try:\n",
    "        description = html.find('div', {\"class\": \"description\"}).text.strip()\n",
    "        description = description.replace(ad_info[\"Details\"], '')\n",
    "        ad_info[\"Description\"] = description\n",
    "    except:\n",
    "        logging.error('Unable to parse Description data.')\n",
    "\n",
    "    try:\n",
    "        ad_info[\"Date\"] = html.find('span', {\"class\": \"date-posted\"}).text.strip()\n",
    "    except:\n",
    "        logging.error('Unable to parse Date data.')\n",
    "\n",
    "    try:\n",
    "        location = html.find('div', {\"class\": \"location\"}).text.strip()\n",
    "        location = location.replace(ad_info[\"Date\"], '')\n",
    "        ad_info[\"Location\"] = location\n",
    "    except:\n",
    "        logging.error('Unable to parse Location data.')\n",
    "\n",
    "    try:\n",
    "        ad_info[\"Price\"] = html.find('div', {\"class\": \"price\"}).text.strip()\n",
    "    except:\n",
    "        logging.error('Unable to parse Price data.')\n",
    "\n",
    "    return ad_info\n",
    "\n",
    "\n",
    "def WriteAds(ad_dict, con):  # Writes ads from given dictionary to given file\n",
    "    \n",
    "\n",
    "\n",
    "def ReadAds(outfile):  # Reads given file and creates a dict of ads in file\n",
    "    import ast\n",
    "    ad_dict = {}\n",
    "    if os.path.exists(outfile):\n",
    "        with open(outfile, 'r') as fh:\n",
    "            ad_dict = json.loads(fh.read())\n",
    "\n",
    "    return ad_dict\n",
    "\n",
    "def scrape(url, old_ad_dict, exclude_list, filename, send_email):  # Pulls page data from a given kijiji url and finds all ads on each page\n",
    "    # Initialize variables for loop\n",
    "    email_title = None\n",
    "    ad_dict = {}\n",
    "    third_party_ad_ids = []\n",
    "\n",
    "    while url:\n",
    "\n",
    "        try:\n",
    "            page = requests.get(url) # Get the html data from the URL\n",
    "        except:\n",
    "            print(\"[Error] Unable to load \" + url)\n",
    "            sys.exit(1)\n",
    "\n",
    "        soup = BeautifulSoup(page.content, \"html.parser\")\n",
    "\n",
    "        if not email_title: # If the email title doesnt exist pull it form the html data\n",
    "            email_title = soup.find('div', {'class': 'message'}).find('strong').text.strip('\"')\n",
    "            email_title = to_upper(email_title)\n",
    "\n",
    "        kijiji_ads = soup.find_all(\"div\", {\"class\": \"regular-ad\"})  # Finds all ad trees in page html.\n",
    "\n",
    "        third_party_ads = soup.find_all(\"div\", {\"class\": \"third-party\"}) # Find all third-party ads to skip them\n",
    "        for ad in third_party_ads:\n",
    "            third_party_ad_ids.append(ad['data-ad-id'])\n",
    "\n",
    "\n",
    "        exclude_list = to_lower(exclude_list) # Make all words in the exclude list lower-case\n",
    "        #checklist = ['miata']\n",
    "        for ad in kijiji_ads:  # Creates a dictionary of all ads with ad id being the keys.\n",
    "            title = ad.find('a', {\"class\": \"title\"}).text.strip() # Get the ad title\n",
    "            ad_id = ad['data-ad-id'] # Get the ad id\n",
    "            if not [False for match in exclude_list if match in title.lower()]: # If any of the title words match the exclude list then skip\n",
    "                #if [True for match in checklist if match in title.lower()]:\n",
    "                if (ad_id not in old_ad_dict and ad_id not in third_party_ad_ids): # Skip third-party ads and ads already found\n",
    "                    logging.info('New ad found! Ad id: ' + ad_id)\n",
    "                    ad_dict[ad_id] = parse_ad(ad) # Parse data from ad\n",
    "        url = soup.find('a', {'title' : 'Next'})\n",
    "        if url:\n",
    "            url = 'https://www.kijiji.ca' + url['href']\n",
    "\n",
    "    if ad_dict != {}:  # If dict not emtpy, write ads to text file and send email.\n",
    "        WriteAds(ad_dict, filename) # Save ads to file\n",
    "        if send_email:\n",
    "            MailAd(ad_dict, email_title) # Send out email with new ads\n",
    "\n",
    "def to_lower(input_list): # Rturns a given list of words to lower-case words\n",
    "    output_list = list()\n",
    "    for word in input_list:\n",
    "        output_list.append(word.lower())\n",
    "    return output_list\n",
    "\n",
    "def to_upper(title): # Makes the first letter of every word upper-case\n",
    "    new_title = list()\n",
    "    title = title.split()\n",
    "    for word in title:\n",
    "        new_word = ''\n",
    "        new_word += word[0].upper()\n",
    "        if len(word) > 1:\n",
    "            new_word += word[1:]\n",
    "        new_title.append(new_word)\n",
    "    return ' '.join(new_title)\n",
    "\n",
    "def main():\n",
    "    parser = argparse.ArgumentParser(description='Scrape ads from a Kijiji URL')\n",
    "    outfile_default = 'scraped_ads.json'\n",
    "    parser.add_argument(\n",
    "        '--url', '-u',\n",
    "        dest='url',\n",
    "        type=str,\n",
    "        required=True,\n",
    "        help='URL to scrape',\n",
    "    )\n",
    "    parser.add_argument(\n",
    "        '--outfile', '-f',\n",
    "        dest='outfile',\n",
    "        type=str,\n",
    "        default=outfile_default,\n",
    "        help='filename to store ads in (default name is {outfile_default})'\n",
    "    ),\n",
    "    parser.add_argument(\n",
    "        '--exclude', '-e',\n",
    "        dest='exclude_list',\n",
    "        nargs='*',\n",
    "        type=str,\n",
    "        default=[],\n",
    "        help='ads containing one of the strings in this list are excluded'\n",
    "    )\n",
    "    parser.add_argument(\n",
    "        '-send_email', '-s',\n",
    "        dest='send_email',\n",
    "        type=bool,\n",
    "        default=False,\n",
    "        help='Email the output to a hardcoded address in the script'\n",
    "    )\n",
    "    parser.add_argument(\n",
    "        '-v',\n",
    "        '--verbose',\n",
    "        help='',\n",
    "        dest='verbose',\n",
    "        action='store_true'\n",
    "    )\n",
    "            #filename = args.pop(args.index('-f') + 1)\n",
    "            #filename = os.path.join(os.path.dirname(os.path.abspath(__file__)), filename)\n",
    "            #args.remove('-f')\n",
    "    args = parser.parse_args()\n",
    "\n",
    "    old_ad_dict = ReadAds(args.outfile)\n",
    "    level = 'INFO' if args.verbose else 'ERROR'\n",
    "    logging.basicConfig(level=level)\n",
    "    logging.info('Ad database succesfully loaded.')\n",
    "    scrape(args.url, old_ad_dict, args.exclude_list, args.outfile, args.send_email)\n"
   ]
  },
  {
   "cell_type": "markdown",
   "metadata": {},
   "source": [
    "Reads in some listings"
   ]
  },
  {
   "cell_type": "code",
   "execution_count": 4,
   "metadata": {},
   "outputs": [],
   "source": [
    "def connect_db():\n",
    "    db_url = os.getenv('DB_URL')\n",
    "    engine = create_engine( 'postgresql://{}', db_url)\n",
    "    if not database_exists(engine.url):\n",
    "        create_database(engine.url)\n",
    "    return engine"
   ]
  },
  {
   "cell_type": "code",
   "execution_count": 10,
   "metadata": {
    "scrolled": true
   },
   "outputs": [
    {
     "name": "stdout",
     "output_type": "stream",
     "text": [
      "['Brand new bicycle delivery backpack, never used. The UberEats logo can be removed if you are using it to deliver for another company. This large delivery backpack is perfect for multiple orders. ...', 'Brand new UberEats bicycle delivery backpack, only used once. Fully insulated bag keeps food warm or cold, with comfortable padded straps. Bag is large enough to fit multiple orders, and can expand ...', 'Bike is used but it has been kept very well. It was lightly used and it is in great condition. This is a mountain bike with the front fork suspension. The wheels are 27.5\" (bike is Medium/Large). ...', 'Selling a Kona Kahanna 20\" frame bike, with 26\" wheels. $150 obo pickup either downtown by Sherbourne and Front or Scarborough by Sheppard and Progress. Selling because I\\'m starting to feel like a ...', 'Lightly used street/commuter bike. Front (Blackburn) and rear racks, front and rear aluminum fenders, chain guard. Comfy, springed saddle. 700x42 tires, new brakes pads. Funky (homemade) hard shell ...', 'As it says, great for making your bike an art piece.', 'CCM Pro Series city express 21 speed mountain bike in excellent condition. Frame size 16. Large', 'I am selling my Giant Rapid 2 Mountain Bike It comes with Shimano Pedals & Fizik bike seat Was used about 15-20 times . Bike retails for $800 US plus tax brand new Just recently got tuneup and new ...', 'Selling a Specialized Vita bike size extra small with a few extra attachments and accessories on top of it bike is in very good condition has been written minimal amount of has been virtually unused ...', 'Brand new never used wheel set • 700c with 700 x 28 Kendra Kwest tires! • 45mm Deep V • Comes with joytech flip flop hub for fixie / single speed configuration • Perfect for single Speed/fixed gear ...', 'Bike in good condition Visible signs of use 8/10 Everything works great Leather seat Disk brakes Medium frame Downtown Toronto Pickup', 'Bike in excellent condition 9/10 Disk brakes Medium frame Mountain tires Shimano gears Leather seats Downtown toronto pickup', 'Giant bike in excellent condition 9/10 Road bike 19\" frame 21 speed Original seat Downtown Toronto pickup', 'Hi Are you looking for good bikes? You got them! I have some nice bikes to sell. I buy and sell bikes in my free time. Please, mention in your ad the bike brand and its price and you can also text me ...', 'Peugeot Sport Road Bike + New U-Lock for extra $20 21.5\" steel frame, 103 Carbolite light frame 27\"x 1/4 steel rims 10 speed with Simplex group set No dent or damage Brand new brake cables Ready to ...', \"Mens mountain bike, frame 21'', wheels 26'', 18 speed, good condition\", \"Girls bike Louis Garneau, wheels 20'', very good condition, not used much\", 'Schwinn Varsity Road Bike + New U-Lock for Extra $20 22\" steel frame 27\"x 1/4 steel rims 10 speed with Schwinn group set No dent or damage Brand new barke pads Nice working speedometer Fenders, Kick ...', \"Mens mountain bike, Raleigh Gator, aluminum frame 20'', wheels 26'', 18 speed, fork suspension, good condition\", 'Kona Hybrid Bike + New U-lock for extra $20 18\" aluminium frame 12 speed with Shimano group set 26 x 1.5 aluminium rims Back fender, bottle holder and bell No dent or damage Ready to go Firm price ...', 'Raleigh Road Bike + New U-Lock for extra $20 23\" steel frame, Hi-Tensile frame, Light material 27\"x 1/4 aluminium rims 12 speed with Shimano group set No dent or damage Ready to go Firm price and ...', 'Norco Sabre Cruiser Bike, Brand new tires + New U-Lock for extra $20 18\" steel frame 26\"x 1/ 3/8 steel rims Brand new tires and tubes 6 speed with Shimano Japanese group set No dent or damage Brand ...', 'CALL OR TEXT ! 4169001287 2019 EMMO ZONE S , EMMO KNIGHT , Emmo proton emmo knight super Ebikes CALL OR TEXT ONLY PLEASE 4169001287 We are a video production company that bought 27 different bikes ...', 'I was working on fixing this bike up. It needs new gear wires everything else is working. I know new wires are not a big deal but I just don’t want to do it. Med size Asking $30.00 or what you want ...', 'For sale Schwinn Tango folding bike in perfect working and cosmetic condition ( except few small marks). This bicycle has a light weight aluminum alloy frame and wheel rims, 6 speed derailleur with ...', 'This bike has been converted to a road bike. missing handle bars break levers and shifters. good bike for a rebuild or parts. 250', 'Very new n everything works very well.pick up at yonge n bloor plz msg me at 6478718576', 'Unfortunately this bike is too high for me and goes no lower. I don’t know anything about bikes otherwise but from what I’ve been told, the back wheel’s “tube” needs to be replaced and I think it ...', 'SOLOROCK Aluminum Folding Bike (Just Like Brand New) Only rode the bike one day...seriously!!! Come see for yourself you will not be disappointed!!! Tires still have the nipples on them you can see ...', 'bike is in good condition, and no issues at all.', 'Never been used; brand new bike bag Currently available at MEC for $98 Weight 800g Material Nylon Volume 15L Dimensions 38 x 28 x 14cm Additional feature(s) Reflective details Pick up - downtown ...', 'Good working condition. Quality Fuji chromoly steel frame (49cm) with quality parts including a Tange headset and singlespeed/fixie setup with a flip flop hub. Really light, only weighs 21 lbs. ...', 'Good working condition. Quality Fuji chromoly steel frame (49cm) with quality parts including a Tange headset and singlespeed/fixie setup with a flip flop hub. Really light, only weighs 21 lbs. ...', 'Mint Condition Infinity 29er mountain bike.', 'Look my others ads for many bikes. 1. (sorry sold out)Pictures , Picture Middle size Supercycle alum .frame red mountain bike No.9, quite new tires , 26 inches, 18- speed, reliable and comfortable. ...', 'Look my others ads for many bikes. 1. (sorry sold out)Pictures , Picture Middle size Supercycle alum .frame red mountain bike No.9, quite new tires , 26 inches, 18- speed, reliable and comfortable. ...', 'look my other ads for many bikes 1. ( sorry sold out)Pictures, No.1: Middle size Supercycle alum .frame red mountain bike, quite new tires , 26 inches, 18- speed, reliable and comfortable. for 4\\'5\"\\' ...', 'look my other ads for many bikes 1. ( sorry sold out)Pictures, No.1: Middle size Supercycle alum .frame red mountain bike, quite new tires , 26 inches, 18- speed, reliable and comfortable. for 4\\'5\"\\' ...', \"Hybrid bike, Diamond Back, aluminum frame 20'', 700c wheels, 21 speed, good condition\", \"BRODIE HELLION FREERIDE HARDTAIL, frame 16'' for someone up to 170cm, wheels 26'', disk brakes, good condition\", 'look my other ads for many bikes 1. ( sorry sold out)Pictures, No.1: Middle size Supercycle alum .frame red mountain bike, quite new tires , 26 inches, 18- speed, reliable and comfortable. for 4\\'5\"\\' ...', 'Regal Bike drop bars, perfect for a road bike this summer. Retail for 35 off the website. Some paint coming off but otherwise in perfect condition! Can meet Downtown Toronto of pick up from my Condo! ...', 'RITCHEY HANDLEBARS FOR ROAD BIKE $60 ALLOY HANDLEBARS FOR ROAD BIKE. TRIPLE BUTTED NOT DOUBLE BUTTED BLACK 31.8 DIAMETER. HANDLEBARS 38.1 CM OR 15 INCHES WIDE. REACH 125 MM DROP 160MM USED BUT IN ...', 'Beautiful multi gear vintage fuji bike with shimano brakes for sale. Great condition, just needs some air and greasing. Good for people 5\"5-5\"11. 275 OBO!', 'Foldable Bike Basket - Brand New Location: Yonge and Bloor Price: $25.00 Basket can be mounted on most handle bars with the provided leather straps Quick release zip ties included for added security ...', 'Mountain Bike Tire 29er x 2.00 Brand: Bontrager Great condition Used just few times', 'Hybrid bike in good condition, just needs cleaning and oiling, from sitting in garage. final price $40 call 6475376580', '2-4 years old boy bike with Thomas the train image on. Mint condition. $30 pick at at bay and Queensquay. Call or text at 416 301 1151 if interested. Thanks. Ann', 'Bike for sale in great condition! Model: It\\'s a Road King Eaton 27 wheel, 10 speed, 23\"frame. It is 100% tuned with brand new tires, seat, bar tape and brake pads. Contact at 6477856019 for interest ...', 'Description http://www.toysrus.ca/product/index.jsp?productId=80708686 Product Description Journey Girls are the best friends with tons of travel experiences and special talents to share. No matter ...', 'Up for offer is my 2015 Norco Carbon Threshold Rival 1, size 58cm. The bike is bone stock - no changes from factory. It is a full Sram Rival 1, 1x11 group-set with hydraulic brakes. This version is ...', 'Women s Schwinn Hybrid ALU lite bike FRAME SIZE 17in in mint condition. Ready for biking. First Come, First Served ITEM AVAILABLE IF POSTED.', 'Bike is in good shape, rides shifts and brakes well. Perfect bike for getting around the city. Comes with a new set of LED lights', 'look my other ads for many bikes. Professional tune-ups, check-ups until your bicycle provides u a ride comfortable, It is my hobby to help young people on a tight budget save on transportation ...', 'look my other ads for many bikes. Professional tune-ups, check-ups until your bicycle provides u a ride comfortable, It is my hobby to help young people on a tight budget save on transportation ...', 'look my other ads for many bikes. Professional tune-ups, check-ups until your bicycle provides u a ride comfortable, It is my hobby to help young people on a tight budget save on transportation ...', 'look my other ads for many bikes. Professional tune-ups, check-ups until your bicycle provides u a ride comfortable, It is my hobby to help young people on a tight budget save on transportation ...', 'look my other ads for many bikes. Professional tune-ups, check-ups until your bicycle provides u a ride comfortable, It is my hobby to help young people on a tight budget save on transportation ...', 'look my other ads for many bikes. Professional tune-ups, check-ups until your bicycle provides u a ride comfortable, It is my hobby to help young people on a tight budget save on transportation ...', 'Look my others ads for many bikes. 1. (sorry sold out)Pictures , Picture Middle size Supercycle alum .frame red mountain bike No.9, quite new tires , 26 inches, 18- speed, reliable and comfortable. ...', 'Look my others ads for many bikes. 1. (sorry sold out)Pictures , Picture Middle size Supercycle alum .frame red mountain bike No.9, quite new tires , 26 inches, 18- speed, reliable and comfortable. ...', 'look my other ads for many bikes 1. ( sorry sold out)Pictures, No.1: Middle size Supercycle alum .frame red mountain bike, quite new tires , 26 inches, 18- speed, reliable and comfortable. for 4\\'5\"\\' ...', 'Single Speed Linus Roadster Excellent condition Medium frame In use as my current commuter Maintained frequently and stored inside Purchased last year from bikes on wheels in Kensington', 'For sale is a Bianchi road bike in very good condition. This is the colour to have. Features lugged Tange steel frame, Shimano components, Alex Rims, Continental Gatorskin tires, Commuter set up, 21 ...', 'For sale is a retro Bianchi road bike in good working condition. Features lugged Columbus steel frame, Shimano 105/600 components, Selle Italia seat, new Lizard Skins bar tape, newer Continental ...', 'I bought this bike in March, got it fitted and rode it once in May. Its a beautiful bike and it comes already installed with: -shimano pedals -loud city bell -multi setting night light -2 water ...', 'Pink Cream Soda. Nice Smooth Ride, Nice White Seat, Includes Kickstand & Simple Gear Everything Is In Great Condition. Still Lots Of Good Riding Fun To Be Had, Yours Before Noon $20.00. Original ...', 'Pink Cream Soda. Nice Smooth Ride, Nice White Seat, Includes Kickstand & Simple Gear Everything Is In Great Condition. Still Lots Of Good Riding Fun To Be Had, Yours Before Noon $10.00. Original ...', 'Get More Errands Done This Month Ladies & Gentlemen ! Meet Friends Faster, Coast Between Classes, Tour The City, This Bike Is Here To Deliver A Smooth Ride. Quality Bontrager Mountain Bike Terrain ...', 'Get More Errands Done This Month Ladies & Gentlemen ! Meet Friends Faster, Coast Between Classes, Tour The City, This Bike Is Here To Deliver A Smooth Ride. Quality Bontrager Mountain Bike Terrain ...', 'Get More Errands Done This Month Ladies & Gentlemen ! Meet Friends Faster, Coast Between Classes, Tour The City, This Bike Is Here To Deliver A Smooth Ride. Quality Bontrager Mountain Bike Terrain ...', 'My roommate moved to Vancouver and could not take her mountain bike with her. Well taken care of. Selling it because I have no use for it. -$120 OBO -Lock included -Water bottle frame included -Small ...', '- Selling as I am moving out - Please text and contact ONLY if you are serious about buying.', 'Great working conditions and vary light bike', 'Eurobike X1 Mountain Bike 21 Speed MTB Bicycle 26 Inch Wheels Dual Disc Brake Suspension Fork Black-Red. Comes with Bell,seat cover, kickstand and a kryptonite U Lock', 'Small 20\" frame (will probably fit someone 5\\'4\" - 5\\'8\") Beautiful condition. Ready to ride.', 'Bike is in great condition. I bought it new a couple years ago and only took it for 3 rides. Always stored inside.', 'Bike is in good shape. Rides, shifts and brakes well. Comes with a set of LED lights. Free delivery in Toronto and north of the city', 'Bike is in great condition. Rides, brakes and shifts well. Bike is equipped with vendors, 6 gears and comes with a set of LED lights. Free delivery in Toronto and north of the city', 'Bike rides, brakes and shifts well. Comes with a set of LED Lights. Free Delivery in Toronto and North of the City.', 'Sick professionally repainted cruiser bike. New tires, tuned up less than 1 week ago. Price OBO! Can throw in bell for free.', 'Bike basket, excellent condition, very good quality. Downtown Call after 2pm.', 'Decent bike, never had any complaints. Want to sell it because I am moving out of the country. Abus u-luck + loop extender cable for extra 40 dollars if interested. - 26 inches - Holland Made ...', 'Used Sekine Vintage Bike for Sale Medium/Large Beautiful frame Tires are good, brakes need replacing', 'Good as new emmo electric bike (Less than four months old). Comes with TWO lead batteries and chargers!Also comes with receipt and has warranty. A few body scruffs, barely significant. Pick-up only. ...', \"Bike in great condition for sale, tires 26' please contact via text message: 647 685 1720\", 'Totally new cruiser bike. Super cute, but I already own one.', 'Selling good working condition as is in the photo, plus extras: -an extra tire/tube (both new) -basic tools for repairing/tunning : wrench/keys, chain lubricant and air pump -the locker.', \"Amego E-bike. 48 V / 20aH Sold 'AS IS' , no key, no charger.\", 'Women’s cruiser bike, custom seat(very comfortable). Bell included, lock for sale if you’d like as well. White bicycle with baby blue accents. I would keep this bike if I could but am moving across ...', 'High volume workhorse Efficient, compact telescoping, high-volume design Serviceable in-line pressure gauge Durable engineered plastic barrel Ergonomic T-Handle provides generous knuckle clearance ...', 'Brand name Momentum Good 7 speed with rack, fenders, bell and special stylish water bottle holder 2 new inner tubes Sept 10, 2018 More photos to come.. Fun bike but I bought it impulsively. It is too ...', '48Volt E bike for sale! Comes with 3 battery’s 2 lithium 48V 20Amp 1 -48 Volt led acid This bike can go 80km on full charge..perfect for working for Foodora or UBER eats! I do 5 hour shift on full ...', 'HandymanSpecial I have been working in this bike it needs a gear adjustment maybe new wires. I give up on my mechanical Skills Great little ride medium frame As Is', 'The most Popular and enjoyable choice of kids. Available in Brand New in Box (PINK, RED, PURPLE, BLACK) , Comes brand new in the factory box packing Assemble it yourself. DETAILS: • Includes Battery ...', \"A great ride with a comfortable seat. In great condition; only used it for a short period of time. Only selling because I'm moving over seas and can't bring it with me. Great for commuting and ...\", 'Two bike saddles for grabs at one price: Bontrager Affinity with rear cutout and a Fizik Arione CX test saddle, with minor scuff on the back edge.', \"Mountain bike Shimano gears Frame 18'' Tire excellent condition 26x1.95 21 Speed\", 'Devinci Hatchet XP 2017 gravel bike In excellent condition, the drivetrain was cleaned and lubricated regularly, very little wear spec: http://2017.devinci.com/bikes/bike_752_scategory_185', '26\" wheels bike, Excellent condition, Has been turn up, road tested, don\\'t need any work on it. One week warrant. Free for bike repair set. Call 6477972300 after 2pm', 'practically brand new - only used twice! Waterproof design easy to mount and unmount Includes: Front and rear lights Brand new AAA batteries included $30 for the set', 'Specialized Allez Sport in great condition - tuned up at Cycle Solutions on Parliament Sept 15th 2018. Tiagra setup with Look carbon fibre pedals. 58\" frame suitable for 6\\'1\" or taller. Looking to ...', 'Rail-A-Bike. Folder 1', 'bought from amazon: http://a.co/d/42kZ7ZR Never used it. Just opened the box for checking the contents. Selling together a tube for the same wheel size', 'This is an extremely rare Mountain Cycle (of California) Fury FS bike. I’ve rode the bike twice since it was built. It’s completely new down to the rubber, except for the BB. The frame was from the ...', 'I’m selling my very well-loved Linus Dover Single Speed bike. Single speed bikes are great for our fairly flat city. It’s a great commuter bike and in very good condition with the usual light ...', 'Skyrack Trunk Bike Carrier for Sedan 3 Bikes | Bike Rack The Skyrack Trunk Bike Carrier makes it very easy to load and unload your bikes. The carrier protect and secure your bikes on the trunk of ...', \"My hobby is taking old bikes and restoring them. If you have a higher end steel bike from the 80's or 90's that's been sitting unused in your garage or basement for decades let me know what you have, ...\", \"Rode my friend's bike and loved it -- looking for something used but still in good shape.\", 'look my other ads for many bikes 1. ( sorry sold out)Pictures, No.1: Middle size Supercycle alum .frame red mountain bike, quite new tires , 26 inches, 18- speed, reliable and comfortable. for 4\\'5\"\\' ...', 'I have had it for a year, the reason I am selling it is because I am leaving the country for missions Ideal for 5’4 - 5’7 This is an awesome bike for beginner cyclists See reviews here: ...', 'Bike Light Silicone Strap Bike Light Bracket Holder for Bike Light Holder for Flashlight Bike Clip Clamp Multi-Function $4 each one Brand new. Never used. It is very good solution if you lost your ...', \"Stick it to PressFit Bike Manufacturers with a hassle-free bottom bracket. English Thread, 68mm width Never used, nor mounted. I'm around King & Dufferin, or Bay & Bloor. Message me for a meetup ...\", \"Mountain bike Bramd: GT Model: Karakoram Size: M Wheel's size: 29er Tire: 38x700cc Brakes: Hidraulic Disc (front and hear) It's in very good condition (few scratches). It was completely reviewed ...\", 'Not used Posted by Alex in bikes, clothing, shoes, accessories in Toronto (GTA), City of Toronto. September 9, 2018', 'Had light use for a few weeks. Look at the specs at: https://www.rei.com/product/776542/cateye-strada-double-wireless-bike-computer It is available if you see this ad', 'I bought this bike 1.5 years ago at Velotique bike shop thinking I would be doing a lot more biking but to my dismay because of my arthritis I got to much back pain after my rides, also I just had ...', 'MUST GO ASAP - Make an offer :) Solid condition, was restored last summer. New front tire and tube put on in June. May need a touch up just for maintenance sake. Great for cruising around the city! ...', 'Silver bike rack. Posted in bikes, frames, parts in City of Toronto. September 9, 2018', 'Selling a Devinci Kicker mountain bike, ideally for trails and even dirt jumping. Recently got a tune up and replaced the tires. The rear brake has been replaced with a newer Shimano Deore m505. ...', 'Purchased earlier this season (receipt available) and I tried them out on a couple rides. Selling because its just not for my current setup. *If you see this ad the lights are still available. Front ...', 'The balance bike is in a very good condition . Frame is made of birch plywood. Standard rubber tires (12½ x 2¼in.) with inner tubes. Soft padded synthetic leather seat keeps tiny tushies happy ...', 'Need a great city bike? Vintage folding bike with basket from the 1980s -- in perfect working condition and great quality (retailed at $500 then!) and still in great shape -- had been tuned up ...', 'I have converted a mountain bike into a single speed city cruiser. Strong frame, good brakes. Tires are perfect for city roads and curbs. Comes with brand new chain and comfort Schwinn saddle. Rear ...', '26\" wheels full suspension bike, excellent condition. Has been turn up, road tested, don\\'t need any work on it. One week warrant. Free for 4 pieces of repair set. Call after 2pm. Downtown pick up.', \"The Free Spirit is up for sale. She's been great to me but I no longer need her. Selling her as is including bike lock, bell and front and rear lights.\", \"Brand New Helmet for Ebike or any type of bike. It's DOT approved.\", \"Selling a well taken care electric bike i recently owned. I just haven't found the time to ride it and spend more time to it. I have everything in perfectly working condition. Only ttwo months old. ...\", 'Kids Bike Wheels $15 EACH DURO (57 x 406) 14 x 2.125 First Come, First Served ITEM AVAILABLE IF POSTED.', 'Like new excellent condition with new battery. Includes Chest Strap and USB cable. Exchange cash for Garmin at Rosedale Subway Station.', 'Kids Bike Wheels $15 EACH TIANDI (50 x 305) 16 x 1.95 First Come, First Served ITEM AVAILABLE IF POSTED.', 'This high performance road bike is equipped with high end components: - Chromalite (chromoly frame) - Axiom lightweight alloy handlebar stem - Lightweight alloy wheels - Shimano SIS derailleur - ...', 'Hi there, up for sale many bike parts with plenty of life left. All parts / bolts / hardware in good working condition and of good quality. Text me for quickest response: 647 7OI-5838 $20 - Aluminum ...', 'Hi there, up for sale many bike parts with plenty of life left. All parts / bolts / hardware in good working condition and of good quality. Text me for quickest response: 647 7OI-5838 $20 - Shimano ...', \"Custom build Norco Sight carbon 27.5! Light, fast, and is a great all mountain / XC bike that is versatile enough to ride in Ontario, Vermont and British Columbia (at least that's where I got to ride ...\", 'Pick up at the intersection of Bay and Edward Street or near the University of Toronto campus.', 'Brand new bike..used for 2 hours,....Schwinn bike lite weight, life time warranty available in Canadian tire, its original price is 599+tax,medium frame.....i am 5.7 its very comfortable for ...', 'Selling my battery because my bike was stolen. It has year an half warranty still on it. Was purchased from Amego', \"Brand new in the box kids' bike for ages 3-5 years. Have not opened the box. Received as a gift, but already have a bike. $50 cash only. Meet ups downtown Toronto. Email or text me if interested or ...\", 'Used ebike stinger from mobility unlimited it’s white I’m selling as is it is in fine working condition breaks work batteries charge all lights work alarm system 2 keys bike cover batteries and ...', 'This bike is excellent for riding in Toronto. In perfect condition, no scratches or dents and always stored in-doors. Red color with front basket included. The bike details - - Supercycle Solaris ...', \"One pair of almost new (used once) Giro Rumble VR Bike Shoes US Mens Size 11 Black EU 45 Excellent shape I'm near King and Bathurst st.\", 'Excellent condition high end bike. All aluminum components, light weight alloy frame. 18 speeds. Quick sale', 'Bike in great shape and has Shimano 21 speed. Not used often.', 'Only flaw on this bike is that back wheel needs to repaired. Meaning you will not able to ride home. I do my meet ups only at Wellesley and Parliament . Text me if interested. Serious inquires only. ...', 'Estate sale, excellent condition, classic vintage bike for quick sale.', 'Bought this bike last summer, has been sitting in my storage room ever since. pick up in Kensington Market', '20\", 5 speed,', \"Vintage bike rack. Light weight, springs work well and aren't squeaky. Missing one nut and bolt, but any shop will have spares available. Pickup only, thanks. I'm located near Sherbourne and Bloor ...\", 'Selling a matte black Pure City 3 speed internal gear bike. Model is Bourbon. Size M 54\" frame, fits someone 5\\'6\"-5\\'10\". Includes bell, bike rack and kickstand. A new bike chain, brake cables and ...', 'This bike is new from cabanerosbicycles.com • Light Weight 4130 FULL CHROMOLY Steel Frame • Forged dropouts with built in tensioners • Size: Large (56cm) and Medium (54cm) available • Gloss Black or ...', 'Schwinn Youth Mountain Bike, 13” aluminum frame, 24” wheels, 21 speed Shimano gears. Front shocks, hard tail. Used 1 month. Price new was $375.00, a steal at $120', 'Stunning Single Speed Road Bike - Sekine Vintage MR200 (70s). - Sadle : Cardiff - Handle : Cinelli - Brake : Shimano 105 series - Pedals : WELLGO WPD-95B HALF/HALF PEDALS These pedals have two ...', 'Basically brand new 50km used FSA brakes, upgraded to ultegra on a new bike. $75 OBO', 'I have recently had my Ladies bicycle stolen from The Clarence road area in London Ontario .The thief we believe was a a woman as she was recorded on CTV .This cycle is very distinctive as it was ...', 'disc brakes teal blue', 'Lite Speed Liege Race Bike Titanium Frame Campi Groupo\\u200e equipped Campi Wheels Great condition $2,900 or best offer', 'For sale is a retro in good working condition. Selle Italia seat, new Lizard Skin bar tape, newer Continental tires. This bike is fast and light. Ready to ride. 23 inch frame $200 or best offer... ...', 'Supercycle mountain bike for sale In good condition', 'Have different handlebars and cranks for road, commuter, hybrid and mountain bikes - not all pictured. Price from $10 to $40, let me know what you need. Can deliver in downtown area for a small fee.', \"Brand new Ortlieb Bike Pannier!! I bought a pair of these as that is how these are sold. But i only needed one, so i'm selling the extra bag. Great bag, for many, many reasons. I am selling this bag ...\", 'Excellent Condition. Badboy Matte Black with all the specs. located right downtown/ college and mccaul.', 'Like new Bike seat. Ridden twice 10/10 condition Bontrager Paragigm Race 138mm Key features Versatile saddle designed for the needs of Posture 2 riders with the ability to support Posture 3 Gel ...', 'PLEASE SEE PICTURES FOR FULL SPECS. Rode over 80 km/hour on this thing!! NOTE: ZIPP WHEELS ARE ALREADY SOLD, comes with stock MAVICS 56\" frame, MINT CONDITION...NO LOW-BALLERS PLEASE. END OF SEASON ...', \"Road bike super lightweight. Frame: 48cm Purchased from Brown's Sports & Cycle around August 2015. With some small upgrades it costs $1500 (Upgrades include brake, pedals and Zipp Handlebars). *For ...\", '54 cm frame Specialized Epic Road Bike Light, fast and comfortable road bike with a carbon frame Shimano 600 components, shifts smoothly and easily 18 speed New Gatorskin tires Selle Italia saddle ...', 'I am NOT selling a bike. I am looking to buy a bike.', 'Lightly used Cannondale Slice Tri Bike for sale. Full carbon with super slick SRAM Force derailleurs (30 speed). Frame size -54 .Tires- Vittoria Corsa race tires. Extras - Adamo ISM Prologue saddle. ...', 'Specialized allez bike for sale, bought it last year for the ride to conquer cancer and rarely rode it afterwards. I fell while riding and scratched up the gear shifter on the handles, so I am ...', 'Great condition, some small scuffs that were touched up. shimano components all original. rides and looks great.', 'used Bike tool tube that fits in most bottle cages', 'New U Lock Bike Lock With protective plastic cover and 2 keys', 'I purchased Diamond Back Bike Pedals for a race and never ended up using them. They are missing packaging but have never been used. Details: 9/16-Inch Spindle Resin/Alloy Bicycle Pedals with Toe ...', 'For sale Brand New TRIUMPH Folding Bike with helmet $200 - Price in USD$325 - please contact 647 937 0527', 'Selling a trunk-mounted bike rack which hold bikes. Uses quick- release adjustment straps to fit on most vehicles (particularly sedans). Has soft rubber bike cradles to protect and separate bikes. ...', '80% new mountain bike', 'This a great starter touring bike. It has taken me all over the world and has been tuned up every year. It has disc brakes, STI shifters and comes with a rack with a $200 value. If you are interested ...', \"I'm regrettably selling my 2018 Santa Cruz Hightower Carbon 29er Mountain Bike. As It stands this bike is worth closer to $8,500 + so this is quite a steal. The bike is in 9/10 Condition with ...\", 'Bikes great, sturdy but still very quick. I am willing to negotiate price and can meet up near the Eaton Centre in downtown Toronto.', \"A Girl's Bike for sale. Excellent condition, only used for a few times. Small stains on the seat. Bought from Canadian Tire, for $130 + tax. Same style as shown in the picture, but slightly different ...\", 'Brand New Never used Double Butted Chromoly Road Bike Single Speed Commuter Bicycle fixie Fixed gear urban city Comes with brakes and pedals • Light Weight 4130 FULL CHROMOLY Steel Frame • Forged ...', 'NEW 2019CALL OR TEXT 4169001287 2019 EMMO ZONE S , EMMO KNIGHT , Emmo proton emmo knight super Ebikes CALL OR TEXT ONLY PLEASE 4169001287 We are a video production company that bought bikes for ...', 'NEW NEW NEW 2018 Emmo Proton GTS super Ebikes 75km speed, 75km range CALL OR TEXT ONLY PLEASE 4169001287 Travels the furthest of all bikes CALL OR TEXT ONLY PLEASE 4169001287 We are a production ...', '3-speed internal gear shift. Fancy pants front shocks and cushion seat. Seat springs. Hard metal fenders that endure movement. Sturdy and comfy. Working bell and kickstand. Coaster brakes with front ...', 'Looking for a Gamma Vision red 24 speed bike. Son loves the style. Willing to pay top dollar. New or used. Perhaps one that can be rebuilt.', 'Excellent condition. Barely used as our son needed a larger model. Features Alloy frame, Front shock Suspension system and premium Shimano SIS 6-Gear Tourney Shift System. Has been in storage since ...', 'Cruise around in style and comfort on our pink beach cruiser . Our pink beach cruiser ladies bicycle....nice ride in the city.', \"Selling my E-Bike ready to ride. Blinkers aren't working. Comes with the charger, and I'll throw my helmet if you like. Item is available if ad is up.\", 'Bike rack. Posted in bikes, frames, parts in City of Toronto. September 3, 2018', 'Hybrid bike for sale, bought in 2017 and sturdy frame with minimal wear and tear. For sale because I upgraded to better quality bike this year. Supercycle bike in grey, kick stand included. 6 speed ...', '1 Triathalon bike bar by Profile Design Double bottle holder by Profile Design Plus FREE Inner tube $20 NEW PRICE!! Location: Kensington Market (College and Spadina)', 'Used bike gifted from a friend. Ended up buying something bigger so it is time to find this bike a new home. Rides smooth, needs a little maintenance... Nothing major. Medium sized frame, ideal for ...', 'All sorts of Cervelo specific bike parts, clearing out parts bin and leftover components. Some other odds and ends. Open to offers for parts or entire lot, will trade for similar high end components. ...', 'Light mauve unisex colour. Designed in Canada -goes for much more new.', 'This is a bianchi piaggio bike This bike has a new seat, the back wheel is less than a year old and the front wheel just got replaced a couple weeks ago. I am selling it because I am not a strong ...', \"Araya front bike wheel 28'', in good condition.\", 'Selling my road bike, rode it for almost 6 months rides well. I did paint this bike green. If u have any question soot me a message.', 'Great Raleigh bike, Just recently got it tuned up and running well. Shimano gears. Helmet included. $130 OBO.', 'San Marco saddle: $50 Egg Beater Pedals: $40 Shimano SPD Pedals: $30 Ritchey 120mm stem; $50', 'Chariot bike trailer with jogging stroller attachment. Recently bought off another parent here but find I don’t have enough storage to fit in our apartment. Was planning to use it primarily as a ...', 'Single speed road bike Really quick', 'Good condition, almost new pair of Michelin Dynamic Sport bicycle tires. Size is 25 - 622 (700 x 25C) I used them for about 2 months (10 rides) but my friend gave me new higher-end tires so I swapped ...', 'This is an older Schwinn 21 speed mountain bike. More like a Hybrid by today\\'s standard as it doesn\\'t have any suspension. 17\" frame makes it suitable for anybody 5\\'4\" to 5\\'10\" or so. Nice MEC ...', 'Look my others ads for many bikes. 1. (sorry sold out)Pictures , Picture Middle size Supercycle alum .frame red mountain bike No.9, quite new tires , 26 inches, 18- speed, reliable and comfortable. ...', 'Look my others ads for many bikes. 1. (sorry sold out)Pictures , Picture Middle size Supercycle alum .frame red mountain bike No.9, quite new tires , 26 inches, 18- speed, reliable and comfortable. ...', \"Piccolo Trailer Bike Hook this bike to the adult bike and your child can ride safely behind Price includes the hook up rack for the adult bike and the child's trailer bike Very Good condition Easy ...\", \"I am clearing out all the bikes stuff I don't use. Here is a list of everything with prices and condition descriptions. Ask for pictures of any item! prices are a little flexible, but no lowballing ...\", 'Almost new On One Pickenflick Titanium Bike - size medium Ridden once. An english brand. Rarely seen here. No low-ball offers ...', 'Selling a used Norco cruiser bike. Rides fine. Perfect for city riding. 6 speed. Made in Switzerland. Pick up only located near Union station. Price firm. Serious inquiries only.', '26\" wheels full suspension bike, excellent condition. Has been turn up, road tested. One week warrant. Free for 4 pieces of repair set. Call after 2pm. Downtown pick up.', 'Channel your inner hipster with this sweet ride- Trek bike, fixed gear, leather seat and handles, bright orange rims... frame size good for someone about 6 feet tall. This sweet ride is about 12 ...', 'Used twice on current bike then upgraded. Great seat and bought new for $100 plus tax. An aggressive Posture 2 saddle that excels both on the road and mountain bike The Contour Relief Zone Plus ...', 'Originally $179.99 plus tax. Bought impulsively and used once but not a good fit for me. Product details: Posture 2 - Aggressive: Forward pelvic rotation for athletes with a high degree of ...', 'Ready to ride, comes with a brand new helmet and a bike lock, also equipped with disk brakes', 'Hello , Selling our very well maintained ride on wheels for $15 . This Kids Bike can be used as a stationary rocker or modified into a push ride-on. Has various sounds of numbers, letters and colours ...', 'New new new 4169001287 Emmo Knight GTS SPORT Super Powered with extra power Call NEW Emmo Knight GTS Super Electric Bike Fastest E-bike Electric Power NO LICENSE NO INSURANCE NO PARKING This is a ...', 'Looking for hybrid, commuter or like to commute to work downtown. Preferred males are Marin, Trek or Specialized.', 'Hi, I’m selling my favorite road bike, small size and is in great condition. It has been always stored indoors and well taken care of. I’m moving out of the country very soon so this bike needs a new ...', 'Ready to ride, comes with a brand new helmet and a bike lock, also equipped with disk brakes', 'Indoor training season is fast approaching and this Elite Fluid trainer is a great solution for long indoor rides. Comes with the trainer and an adjustable wheel block, which simulates inclines. ...', 'Selling black, good condition and easy to ride road bike. Has only been ridden 6 times, due to me already having another bike. I also have a video, contact me and I can send you more information.', 'Trek you can ride away brakes geas everything works the nacamiro needs front tire tube and a seat will post pictures later 225 for the nacamiro 75 for trek pick up only call or text will trade for ...', 'Sell bike 26 inch.', 'Steel Frame With Solid Plastic Floor, Water Resistant Coated Fabric Cover, 16 \"spoked Wheels (removable), 2-Part Universal Axle Hitch, Rear Bumper, Foldable Rain Cover (removable), Cart Function By ...', 'Selling my 2017 Giant Defy Advanced 1, rode less than 10 times bought for $3050, selling for $2500. It looks and rides like new. All components are stock. I treated this bike like he was my son, ...', 'Cruiser bike for sale, needs some tlc (new inner tube/gears should be tightened) that sadly I don’t have time to give her. Best for someone 5’3 - 5’’8 120$ obo', 'Specialized Tarmac Pro Ultegra shifters Look pedals 56 cm Carbon frame Mavic wheelset', 'Full carbon bike 700 series Trek’s lightest 54 cm frame Dura ace shifters', \"Is a beautiful looking vintage bike, good for a someone 5'7- 6'. Is a little old but still rides smooth. New brake pads just installed. Perfect for a daily commute or longer distance rides.\", 'New Bike U lock (34cm length x13.3cm width x1.3cm diameter), very good quality. Two for $18 plus free bike repair set. One for $10. Cable lock two for $14 plus free bike repair set. One for $8. Call ...', 'Kryptonite Long Chain Lock. Posted in bikes, other in City of Toronto. August 29, 2018', 'Kryptonite Long Chain Lock. Posted in bikes, eBike in City of Toronto. August 29, 2018', 'Barely used mountain bike, in excellent condition brakes were recently replaced 26 inch wheels 18 speeds accessories included', 'E-bike bmx fat bike', 'Emmo Proton GTS NEW 0km NEW NEW NEW 2018 Emmo Proton GTS super Ebikes 75km speed, 75km range CALL OR TEXT ONLY PLEASE 4169001287 Travels the furthest of all bikes CALL OR TEXT ONLY PLEASE 4169001287 ...', 'Baiyu Multi Function Bike Bicycle Rack Bag Seat Cargo Bag Rear Pack Trunk Pannier Handbag Shoulder Bags Bike Pouch Back Seat Packs Rear Rack Tail Packets 13L (Blue) Bought this in the spring but ...', 'All these kids bikes including a scooter are for sale Kids Bicycles sell for $40 each Scooter sells for $20 Adult bikes $75 Text or call me any time at 647-501-2974 Pick up only I will be either at ...', 'Eggbeater pedals installed and included. Thanks for your interest!', 'very good condition', 'very good condition,special edition.', 'Bought it new then moved and put it into storage for the last year. 10/10 condition. $200 Firm and can deliver within Toronto. 22.5\" aluminum frame.', \"STEALTH 2, FITS MOST VEHICLES, 2 BIKE CARRIER THIS BIKE RACK IS IN VERY GOOD CONDITION, IT IS A STEALTH+2 MODEL. IT'S COMES WITH THE SECURITY TAG STILL ATTACHED. It is in good condition. All is ...\", \"Marin Nail Trail 2006 hard tail mountain bike in Matte Bronze. Used a few times, but still looks great! No damage to the frame (size 17.5). I'm asking $500 firm. I will include the quick release for ...\", 'Brand New Kenda K West Tires • 700 x 28C • $15 each tire or $25 for a pair • Inner tubes available for $5 tags: commuter road bike fixie fixed gear bicycle steel Chromoly 4130 track frame pista frame ...', 'For sale Unisex Very good bike Old, Classic', 'Is in perfect condition Only used once', \"This lovely bike has carried me through this lovely city in the past year. However, I am leaving the country and unfortunately have to sell the bike. It's a great bike and won't let you down. Pick up ...\", 'Infinity superior 20 inch frame 21 speed shimano equipped front suspension. 26 inch aluminum wheels and extra comfy sheet. Front Basket attached. Excellent condition, rarely used , pick up from St. ...', 'Selling two bike wall hangers, never used, still in original packaging. Selling at $45 each or both for $80. Originally $55 each. Pick up or meet in front of AGO', 'Two kids girls bikes ( bicycles) in Very good condition for sale, both were bought from Canadian Tire. Will sell individually too for $40 each or best offer. The bike for 7 year has flexible seat to ...', \"Moving to east coast can't take bike with me bought last year from Emmo on Spadina. My bag as stolen with keys for bike I have wired it to work with main power switch so work as is. Only kept indoors ...\", 'In good condition. 14 speed. Breaks work.', 'Bike in good condition. 21 speed. Working breaks. Available immediately.', 'selling for 5 dollars. size is LG/XL. 57-60 cm', \"Selling our son's mountain bike as he has outgrown it. We bought it new 2 years ago and it has only been used occasionally. It is in good condition and 21 speed gears. Suitable for kids, youth, ...\", 'New bike barely used. I would like it gets a good use. High quality road bike. Everything is perfect barely used. Bought at 650. I could change if you get a mac cause I want to buy a Mac. Excellent ...', 'Hi all, Need a great, smooth road or trail bike? Women\\'s Skyline bike. Best for heights 5\\'5\" - 5\\'8\". Easy to use Shimano gears. Bike frame is slightly too short for me as I\\'m close to 5\\'10\". Call/msg ...', 'Great condition women’s, medium size mountain bike. Great condition, ready to ride or use for parts. Worth more in just parts, nice rims, components Price is firm $100', 'Looking for a giant escape bike. Rode my friends the other day and loved the feel! Medium sized frame', 'Great condition', 'Used bike, but still in good condition', 'Please contact me Alsafar1404@gmail.com', 'Please contact me Alsafar1404@gmail.com', 'nive vintage looking bike', '*Super fun bike *My wife was riding it, so its not a hard used bike. *Bike feels amazing, has a smooth ride. I changed back to classic brake for my wife. (If you are a disc brake fun; it nees brake ...', 'Road bike: back tire needs to be replaced , otherwise works perfect Cruiser: works perfectly , comes with front basket Contact me if you want more pictures !! #raleigh #cruiser #bike#roadbike', 'Great condition Back tire is flat but both tires are only a year old $250 or best offer', \"CCM Evox 120. Apparently it's a badge-engineered Quetzal, a make from Quebec whose parent company had bought out the rights to CCM a few years previously\", '• CCM 2.0 SL 26\" Full Suspension Mountain Bike is available in a 17 or 19\" aluminum frame • 26\" tires • 21-speed • Shimano EZ-Fire shifters • Shimano derailleurs • Disc brakes • Alloy crank • Alloy ...', 'Roadster 22.5 Black Purchased new from Curbside in 2012 Excellent condition with some cosmetic wear/tear. Includes bell, onboard pump, and saddle bags. Location mid-town Toronto', 'Really excellent bike great shape. No brand name', 'I have a really nice, custom built road bike (fixie) for sale. -Gardin frame -Ambrosio wheels -Cannondale breaks -Miele seat Size: 21 1/2\"', 'Hi Selling a mint condition Nishiki road bike from the 90s. The frame is spotless. Shimano 600 components.', 'Trek 7000 26er mountain bike, circa 1984 - 1988, new 2\" Michelin cross country tires, front rim 25 mm inside rim width, chromemoly fork, new front rim brake, water bottle cage and bottle, rear rack ...', 'Renting a 2 bike bike rack. Weekend: $40 Weekly: $75 The rack is the Seasucker minibomber. Fits 2 bikes and is a universal fit. Easy installation on any surface using powerful suction cups. Not for ...', 'Very small raleigh bike', 'Very nice commuting bicycle in mint condition. All aluminum frame with carbon front fork. Double brakes on handlebars - very safe for city riding. Bike can be seen at UofT St. George and College ...', 'KHS urban soul single speed bike for sale. Brought brand new only in June and comes with a 9 month warranty on all parts and have receipt to prove. Also will include a kryptonite keeper lock worth ...', 'This bike size 58 its like new. 2x11 speed its very nice and faaasstt.I payed $2580 asking $1850 i have to sell it bought a mtb.To see the pictures send me an email.', 'Really nice simplex set up, new original old stock front derailleur installed, ordered from France. Rides nicely solid elegant high end bike, gears may need slight adjusting. About 57cm Columbus ...', 'MARIN Larkspur CS3 series 1 27 speed - aluminium frame bike Great condition, 9/10 and recently had a tune up. All original parts! Contact me at 416-857-7733 or email.', 'Peugeot road bike 10 speeds Not used very much or at all', \"At the Glouster street and Church street I got stolen my bike yesterday. Its have a fender at rear wheel front for just mud guard. I install pinhead skewer so they might could't replace wheel or ...\", 'For sale is a Raleigh Record bike, a Newson’s build. Fixed gear/Single speed set up. Excellent condition. Has a Masi seat + will come with a pair of Cinelli Cork handlebar tape. 54 cm frame size Bike ...', 'This bike has a rusted chain and some brake problems. If you are into fixing bikes, you may be able to do something with it.', 'Brand new still sealed. Attach your polar heart rate monitor to your handlebars. Like Garmin wahoo tacx', 'Trek Zektor 3 Commuter bike. Hydraulic discs. Near perfect shape as the bike has seen limited riding in only good weather. Helmet, Abus Bordo X lock (retail $205), kryptonite lock, anti theft ...', 'Shimano Exage 500 EX rear derailleur RD-A500. $20 Shimano Tourney front derailleur, clamp-on FD-TY30. $10 Can install if you bring your bike over. Can be seen at Bloor/St. George on weekdays. Shimano ...', \"This Front wheel is made of magnesium allow and is ideal for fixed gear / single speed and/or road bikes. It's a semi gloss finished. Never used. Mounted on my bike but quickly realized not the look ...\", \"It's setup for the city as I've removed the quick releases so you don't need to lock the wheels or seat. 21 speed. 7 work well now and a tune up would get the other 14 going but I've never felt the ...\", 'Selling my new bike, bought this summer, because of knee injury. I only used the bike for one month. Bike with accessories bought for $450 Selling for $300 Includes: the bike, bike lock, helmet that ...', 'Hi, I’m selling this bike for $45 Very good condition. Best,', 'Yakima Double Roof Bike Holder and Thule Windbreaker', 'This a great starter touring bike. It has taken me all over the world and has been tuned up every year. It has disc brakes, STI shifters and comes with a rack with a $200 value. If you are interested ...', 'giant saddle planet fenders good ride-balance 27-28 \" wheel ---as a senior too hard to get my leg over seat/crossbar', 'Used on a cyclocross bike. Firm saddle. Cool graphics. Moderately light. Manganese rails.', 'mazing recumbent bike. Excellent quality, German technology, very good shape. Rarely used,. Comes with the streamer as well. bike is in montreal...', 'Hi everyone ! I bought this bike 2 months ago at GIANT Toronto (i have the bill) but i have to sell it cause i leave Toronto ! AMAZING bike ! The price was 1.469 $ ! ...', 'Roadmaster. Front wheel was stolen, selling rest for parts. $50 or best offer. Pick ups only. Text 6476717376', 'Womens bike for sale new post and seat. Or best offer.', \"Vintage bike needs a bit of love but does work pretty well considering it's from 1960s. Hipsters dream! Pick up downtown....\", 'This a great starter touring bike. It has taken me all over the world and has been tuned up every year. It has disc brakes, STI shifters and comes with a rack with a $200 value. If you are interested ...', 'Bike is brand new, only assembled out of box. Won from Rockstar contest. Includes manuals and touch-up paint. located in downtown Toronto.', '25 inch racing frame 700 wheels Runs well', '26\" Huffy C ruiser Bike in clean good shape bought last summer and need to sell due to reloction. It also has a child seat adapter already installed in adition to the basket, mobile and cup holder ...', 'So cheap because it needs extensive repairs. Selling as is.', 'Good mountain bike. just used for couple of months. Good conditions. Shimano slx syncross 426 with rock shox. please call 647 343 8157 to take a look. 24\" wheels. Downtown Toronto. Price negotiable', 'Smooth summer ride on this Vintage Raleigh bike. Includes new reflectors and shimano gears', \"Selling my Trek Madone 4.7 Road bike. The size is 58cm. I love this bike but I'm moving to Australia so I'm selling it before I leave. Shimano Ultegra parts. In perfect condition. Never crashed. No ...\", 'Selling my Aquila cross bike. Frame size is 56cm. All parts Ultegra and Dura Ace. Always kept indoors. Mostly ridden on paved or gravel roads. Asking $1200 or best offer. Thanks for looking.', 'Used bike rear rack, good for road or mountain bikes. Bought from MEC, so the quality is great. In very good condition. Comes with all part/nuts/bolts. ...', 'I had a lot of fun with this bike on the Don Valley trail system this summer. I honestly rode it a total of 6 times. The CCM Shadow is a new 2018 model, and the highest end CCM model sold at the ...', 'Looking to buy Cannondale Quick hybrid bike. Small to Medium size frame. Let me know the condition & price. Will pick up. Thanks', 'Super clean vintage CCM Elan 3 Speed Road bike. Bike stored indoors for most of its life and is now tuned up and ready to ride. The Good: 100% original Perfectly shifting 3 speed Sturmey Archer gear ...', 'New Bike U lock (34cm length x13.3cm width x1.3cm diameter), very good quality. One for $10, two for $18 plus free bike repair set. Cable lock one for $8. Call after 2pm. it is available when you see ...', 'Used once $10', '$30 could be built up again for a beater', 'I have a bike for sale, if you need email to me', 'Great Frame, bike hasn’t been ridden in a couple seasons, will need a tune up. Two speed Sturmey-Archer hub; great for the city. I ordered a replacement hub but never installed it. I got a new bike ...', \"This is my old bike. It's been out for 2 winters, so needs some TLC. As you can see the seat is a little torn. It does work, but it currently has 2 flats.\", 'This bike has been in my backyard for a couple years. Not sure if it works, although everything looks alright. It does have 2 flats at the moment.', 'Blue/silver mountain bike - $100 (lots of accessories for extra) Looking to sell my mountain bike since I\\'m moving. Fits 5\\'4\" very comfortably, adjustable seat height so can go taller/shorter. Brakes ...', \"Getting rid of this awesome old bike. I got it at a bike swap a few years ago and don't know a lot about it. It's been stored in a garage for the most part. Only problem with it is that the seat is ...\", 'I just bought two bikes for a price that was a little too good to be true. I was buying because I just had my bike stolen, and that sucks, so if yours was stolen and I just bought it, you can come ...', 'If you\\'re reading this ad, the bike is still available: ActionBent mid-racer recumbent bicycle (similar to photo) in good to very good condition. 20\" at front. 26\" at rear. Disc brake at front, ...', 'This bike is in rough shape, but if you fix bikes it might be worth something. The chain is rusted and I think there is a problem with the brakes. Selling it as is. I am located need College and ...', 'Medium Sebring road bike', 'Rugged bike ready to go! Helmet, lock, pump and car rack also available cheap.', 'Girls Bike, Green-20 (1 year old) Size for 5 -6 years old girls ...', 'Selling this beautiful Norco Cruiser that has spent most of her life in storage and is in perfect, like new condition! The latest model of this bike is not nearly as beautiful and when I bought this ...', 'Selling my Badass Bee to a good home bc I don’t have space for it after a new purchase. Great condition, entry level road bike (she’s fast! I paid $1300 for her 3yrs ago, I’m the sole owner) recently ...', 'PRODUCT SPECIFICATIONS MODEL NO MU-S705 SERIES SHIMANO ALFINE S7000/S700 Series Average weight 147 g Compatible speed 11/8-speed Bike Type Comfort', 'Brand new bike has two brakes and two pags on the front online price is 399 my price is 200 im selling the radio bmx bike becuase i got a new montain bike. Call or text 6479165331', 'My bike was stolen between 8:53am and 4:30pm on August 15, 2018 outside the west side of the Sherbourne Health building at 333 Sherbourne St. It was locked to the left most bike rack on the second ...', 'Guc tim hortons bike', 'Selling 1 Of A Kind Custom 84V E-Bike. Converted from Older Honda motorcycle. Has programmable controller you can program from phone app. Newer batteries. Capable of 65kms p/hr. $1500', 'Bike is in like new condition. Originally built in 2016 as a city commuter bike... I have since moved from the city and the bike is unused. Full carbon fork and sliding dropouts let you run upto 2\" ...', 'old school looking bike. Very good condition but could use a tuning. send me an offer!', 'Selling a couple of SCHWINN AL 1020 folding e-bikes (2 units): perfect for daily commute downtown, or for effortless bike rides in couple during the weekend... Includes: • (2) e-bikes • (2) batteries ...', 'In good working condition. This is an excellent bike and has been well-loved for many years', 'Amazing bike. Disc brakes. Road tires. Must have', 'Original Raleigh “Twenty” copper brown folding bike in mint condition with attached pump. Rides nicely. The Sturmey Archer AW3 Speed Hub (Wide-Ratio Three-Speed Bicycle Hub) was rebuilt in 2017. I ...', 'GUC pick up downtown or Woodbridge', 'Neon green BMX bike in used but still fully functional condition. It has a few basic wear and tare marks (see photos) this will be an awesome bike for your budding little extreme sports kid!! Asking ...', 'Good condition upgraded to a stationary bike', 'Versatile roof mounted bike rack fitting all types of crossbars and bike sizes. Mounts to wheels without touching the frame at all (no scratching). Easy installation, very aerodynamic. In great ...', 'Collapsible bike basket that can be used on front and back rack. Has all peices still in packaging as well as instructions. Basket is able to be folded flat.', 'Bike For Sale', 'Brand New Never Used. Perfect Condition light on back of helmet spadina and college https://www.mec.ca/en/product/5039-725/Crossover-Helmet tags: mec bike bicycle shimano norco supercycle linus nova ...', 'Beautiful. Must go', \"Rim's in good condition but tyres need replacing\", 'Bike is in excellent condition, super light weight. Recommend for the city. Single speed', 'in good condition, pumped and cleaned Mostly unused!', 'Excellent Condition, professionally serviced. Located in Whitby but can meet in the east end, downtown Toronto, Mississauga or Oakville.', 'Beautiful vintage white bianchi road bike. These guys are timeless bikes that last forever. Tires were replaced last summer and hasn’t been ridden a lot since so tread is still very visible. Quick ...', 'It has adjustable handle bar, front shock absorbers, fenders, carrier, new tires.. it is in very good condition. Tire Size 26 * 1.95. Call or text me', 'Hello! I’m selling my beloved bike as I’m moving back to Europe. It’s a Black Jack mountain bike made in Canada. It has/come with: - Kryptonite lock (bought new in May for $50) - Shift gears (as ...', 'I have 40 available, delivery negotiable', 'Bike is is good shape, has a sturdy steel frame and low profile tires. Perfect for getting around the city.', 'Bike is in good shape, barely used. Rides, brakes and shifts well. Comes with a set of LED lights', 'Bike is in great shape, has barely been used. Rides, brakes and shifts well. Bike is equipped with vendors and a set of led lights. Great for commuting and getting around the city', 'Bike rides well, selling it because I am moving. Size is 23 inch / 60 cm - works well for 6’0 and taller', 'Selling my Brand new e bike , used only for 1 week. Perfect condition, with Added all season tyres , mirror accessories , 1 good quality helmet. There are two bikes in this model , one is 60 watts ...', \"Hi I'm selling a 2018 Surly cross check (56cm) in Cooper mule. I'm the original owner. Bike has been ridden for 100km and in brand new condition. Bike was purchased in July 2018 as a birthday gift. ...\", \"This bike is brand new, still has twist ties and is in a box. Men's bike, green and black. I've attached a photo of what it would look like assembled.\", 'This bike is in a very good condition. Color : Navy Size : Large No rear back. The bike as been tuned up every year. Perfect to ride the city with style!!!! Note : The bike dosent come with the ...', 'Perfect condition. No tool needed for installation.', 'Girls bike. 20 inch tiers. Good condition.', 'All Black Damco Fixie/Fixed gear bicycle for sale. In perfect condition, with both front and rear brakes, and a flip-flop hub. the bike is in great condition and ready to ride! Comes WITHOUT locks. ...', \"Single-speed fixie, perfect for anyone between 5' and 5'6. It rides beautifully in the city and I would keep it in a heartbeat if I was shorter.\", 'The bike is lightly used and looks new. The bike has been sitting in my storage for a year and I do not require it any longer. It comes with rain guards and reflectors. Everything works great. The ...', 'It’s in very good condition bought like 2 months ago and I barely used it because it’s too small for me.', '--ALMOST NEW-- -Bought on Amazon in two colours but only wanted one so I am selling the other This style of bike can only be purchased on amazon. Curbside Cycle in Toronto sells 1, 3, and 7 speed ...', 'Ironhorse mountain bike! Will fit a rider from 5 ft 7 in to 5 ft 11 in tall. Good for the upright riding position city riding frame geometry. 26\" wheels. 20\" unisex frame. 21 spd (3 x 7) Shimano ...', 'Cruiser : Raleigh cruiser with front basket. Size Large . Rides smoothly 150$ Road: Size large road bike , flaw is the rear wheel. Needs to be replaced. $100', 'Blue KHS 7 speed 20\" frame. Shimano gears, Tecktro brakes (recently pro tuned), Large padded comfy adjustable seat with sturdy backrest. Bike backpack includes 3 tire levers, 1 new front and 1 new ...', 'BMX cadet Pedal and tire needs to be fixed', 'Great bike for a little learner looking for their first 2 wheeler. Has a kick stand, foot brake and hand break. This is a fantastic find!', 'Good condition Princess bike for age 3 -6 training wheels available!', 'Bought this bike in April and have never used it. It’s in perfect condition other then the wheels are a bit dirty from bringing it home from the store. I purchased it for $400 and am selling for $300 ...', 'woman bike small size everything works 50$', \"I picked up this sleek Cervelo P1 from a gentleman who only used a year. I've used it this season and done a complete tune on it (new chain, new brake pads, new bottom bracket, new tires) - but it ...\", 'Canadian-made, Brodie Ocho bike: https://www.brodiebicycles.com/ocho Smooth, stylish commuter bike. 8-speed internal geared hub. Hydraulic disc breaks. XL frame. Custom built tires for extra ...', 'Push and ride baby tricycle call 647-896-6186', '$700 or best offer (low ball offer will be ignore) Reason for selling: want to switch to mountain bike Commuter bike Great conditions Comes with rear basket 3 internal gears Extremely comfortable ...', 'My giant mountain bike is looking for new home. Size 17”. Great condition. $250', 'Price is firm. Condition: New:\\xa0Brand-new, unused, unopened, undamaged item in its original packaging Originally bought for: Bike: $411.00 CAD Shipping and Import Charges: $205.00 CAD Total:$616.00 ...', '50T SRAM rival crank . Posted in bikes, frames, parts in City of Toronto. August 4, 2018', 'Size 56 Kona honkey frame (disc). Posted in bikes, frames, parts in City of Toronto. August 4, 2018', 'Front wheel and tire from Trek 520 touring bike', 'Selling a pair of wheels for Mountain Bike, new tires, aluminum light rims! if you need only 1 price negotiable Measures: 54-559 26x2.0 (7 speeds Shimano rear wheel)', 'Front wheel KENDA tire for mountain bike, barely used, like new! Very light Aluminum rim Original price 90$ selling at 50% off!! Measures: 50-559 26x1.95', 'Rocky Mountain Carve Bike for sale, excellent condition. Product Details Size: 18inch Colors: Whyzee Blue', 'Everything you could want from a modern CX bike! 58cm Alloy frame with carbon fork, SRAM Apex Hydro disc brakes, 1X11 groupset, tubeless tires, front and rear thru-axles! Mechanic owned and ...', '- 21 speed bike - completely new break pad - 26 inch tires just changed - fork a bit dented but easily fixable - really good condition price negotiable', 'Carbon frame , bontrager carbon seat post, brooks c15 saddle,carbon bottle cages , carbon cervelo aero handle bars with brand new Fizik bar wraps, ultegra shifting and brake levers and derailleurs. ...', 'Bike is used but in incredible condition. Used for less than two seasons as an occasional rider. Can send full spec sheet if interested Highlights: Rear Carbon Triangle Fox 40 Fox Dhx Easton havoc ...', 'Selling this Norco 2016 bike in prime condition. I bought it in summer 2016 as a secondary bike but was gifted a Giant TCR in the same year and so have ridden this bike less than 5 times. Great bike, ...', \"Free bicycle helmet in size small. Pick up near Queen St and Spadina Ave. It has some scratches on it but otherwise it's fine.\", \"Remake of 70's classic Raleigh Chopper bicycle. Used condition but recently tuned up. Some paint chipping as seen in photos.\", 'EUC too small and got a bigger one.', 'Want to buy Yakima Fullback 3 bike mount for $150 or Yakima Fullback 2 bike mount for $130 Thanks', 'High end vintage road bike, regularly service, new tires, 54cm frame.', 'Selling for half price a barely used Full carbon Road Bike seat. Original price 90$! Material]: Full Carbon fiber [Color effect]: matte [Specification] : L270mm *W130mm*H45mm [Weight] :100g+-5g', 'The Perfect City Bike! Medium Size, Excellent Condition I bought this bike new and used it for about a year only. I took very good care of it and a professional tune up was done during that time. The ...', 'Lithium Battery for E-bike with Samsung, LG, Panasonic, Sanyo Cells Different types of lithium battery 36v, 48v, 52v ,72v, from 10a to 20a. Frog, Shark Down Tube, bottle, Triangle, Hailong, Imortor ...', 'Brand new. Used once. No longer have a need for the lock as I was given a friends lock. Have sales receipt showing July 30th, 2018 purchase for $62. Save $22 on a quality bike lock. Anti-Theft ...', 'Great condition Clean Ready to go!', \"This bike has gotten me through a wonderful year and a half of riding. I think the frame is 21', I am 6'1 and it fit me perfectly. This bike is apparently from the 1960's, it's got manual gear ...\", 'Devenci, Copenhagen model. Aluminum with carbone fork and disk brakes, 27 gear, Blue color, in like new condition as its been unused and kept in my garage. all components are Shimano Deore. It comes ...', 'Moving away and have a black used bmx bike in good working condition Not an aluminum frame but still liggt weiggt new mint condition tires Please call 6472812378 or email responded to this ad if ...', 'Brand new bike has two brakes special edition Radio Bike Company BMX Dice 20 Bike Black 6479165331 no email just text sale price 200 Technical Specifications FRAME: full 1020 hi-ten FORK: RADIO ...', 'Works perfectly fine. Brakes are excellent. Replaced a wheel. 26\" wheels, 15\" frame size Includes bike bell. Works excellent on the road - like said, it cruises smoothly Located near Sherbourne and ...', 'For sale is my CCM Targa vintage road bike stripped and converted to single speed/ fixed gear. I stripped the insides and rust proofed seat post/ bottom bracket and top bracket. Sanded and polished ...', 'New condition, not a scratch Folding bike, 16\" wheels, 5 speed, adjustable seat, handle bars, Perfect for office commuters (bring to your desk for safe keeping) , yacht boat owners, RV campers Rear ...', 'This is an ideal dual suspension bike for comfortable short trips and fun rides. Frame Size : Medium Tire Size : 26x1.95 Speed : 21 Gear Shifter : SRAM GripShift MAX Front Derailleur : Falcon Rear ...', 'Looking to sell my bike that I don’t get a chance to ride anymore - hoping to find someone to enjoy it as much as I have! DESCRIPTION: - Mostly a red frame + accent colours that include white, black, ...', 'Rare hard to find hub for 80’s 6/7 speed bike. Very good condition, spins freely, no rust. Spokes are in excellent condition, look new, no tarnish.', \"Hey there, I'm selling my Supercycle Solaris Women's 700C Hybrid Bike. 16'' High-tensile steel frame, 18 speed, 700C Tires The bike is in condition and it comes with the rear fender and a kickstand. ...\", 'Like New E-bike Lithium Battery Charger. Posted in bikes, eBike in City of Toronto. July 29, 2018', \"If you see it posted then it's still available. Selling my Argon18 Oxygen it's an 18 speed road bike with flat handlebars. All components are original to the bike, including the carbon parts. ...\", 'Carlton Criterium bike in good conditions. Vintage style. Very fast, light and with 8 gears. Locker is included in the price as well as the bell. Side would fit a person 5.6”-5.9” & 5.9”-6.0”. Price ...', 'This NORCO bike has been in storage off its wheels for 23 years. All parts are original, nothing changed or replaced. The chain is a bit gunky, other than that, the bike is in excellent condition. We ...', 'Post mount adjustable', \"3 year old CCR bike, front tire needs repair , but all other parts are in tact. I will also throw in the Kryptonite chain lock for $15 (regular $50) if you'd like!\", 'One-of-a-kind bike holder made with a vintage wheelbarrow wheel. Sturdy, fashionable, unique.', 'Grey version of this product: https://www.mec.ca/en/product/5028-847/Bones-3-Bicycle-Rack. I bought it directly from Mec a couple years ago for the amount listed at the link (approx 250 tax ...', \"I'm 5'5'' fits me - in great condition been kept inside always 150$ OBO - take it todayyyy!\", 'This is basically my dream bike that I built up over a few years. Then around two years ago I started riding a bike with bigger wheels and just have not spent any time on this so I need to let it go. ...', 'Supercycle boy bike, need a bit cleaning. Great for boy 6 - 10 year old.', 'Raleigh big horn bike, great for 7-10 years old girl.', 'Komodo bike ok condition', 'Hi I am selling my MEC Skyway fixie bike, I’ve only had it for about a month, I originally bought the bike for $1200, I am selling it for a good price, it’s a great bike and runs smoothly and very ...', 'Black Force Hardtail Bike', '$80 obo, 3 speed bike with book rack on back', 'Zoom around with the 2-in-1 Learn & Zoom Motorbike by VTech. This 2-in-1 bike has handle bars that move like a real bike and easily transforms from a tricycle for unsteady toddlers into a two-wheel ...', \"Maroon women's Raleigh bike with bell, basket and removable lights (AAA battery) included. Just had it tuned up last summer, with a new tire. Great for casual biking around the city!\", 'Selling bike in great condition. Has been used minimally. Condition 9.5/10. Includes: 1. Basket 2. Kryptonite Bike Lock contact me for more info and to see the bike. Thanks!', 'Lovely bike for sale! Good condition. The only reason why I am looking to sell is because it is a little too small for my height. If you’re anything below 5”8” you should fit this bike comfortably. ...', 'CCM Platform Bike Carrier for 2 bikes. Brand new, never opened the box. You save 50 + tax http://www.canadiantire.ca/en/pdp/ccm-2-bike-hitch-platform-bike-carrier-0401190p.html', '6-month-old Devinci aluminum frame bike. In great shape, tires and breaks are sharp. Only selling because the student and need money for School time. Bike is worth sold at store; 3000$', 'Super light Fixie road bike, with two, installed extra breaks. On freewheel. Tires and breaks are sharp in great condition.', 'Used pink/purple girls bike asking $80 obo, Daughter grew out of it and no longer needs it. Serious buyers only please', 'Bought this one-speed road bike brand new. Only used a few times but its just not the bike for me! Unreturnable so just trying to sell it. You can look at the bike before buying to confirm its still ...', 'This bike is in great shape barely used! Basket on the front and back! Six speed $200 firm. Call or text 416-606-0720', 'Sidi Genius 5 Pro Carbon Mega Road Bike Shoes Includes: Specialized Body Geometry SL Footbed Insoles Red+ ($40 value) Size: 45.5 M I wear a size US 11 in sneakers. The mega edition has slightly more ...', 'Great condition. Seldom used Purchased 2 years ago in Sports Chek (400+ CAD)', 'I have a variety of items for sale. Included are various seatposts, LOOK clipless pedals, Trektro R359 front and rear brakes, Trektro MTB brakes (front and rear), drop and bull bars, Profile Design ...', 'Vintage bike! Got this bike from an antique shop, it’s from the 80’s still in great condition! Works well, rides smoothly. I actually took this bike for a tune up and clean up. It has a brand new ...', 'CMM Bike: Very new, rides well. Needs to have the lock sawed off as the key has been lost.', 'Rear bike rack, excellent condition, make in USA. $15. Downtown pick up. Call after 2pm or email.', 'Great Lights for anyone who wants to be visible on the road. ...', 'Triumph Bike 21 inch wheels Ad posted item still available I can meetup around Yonge and Eglinton area and High Park and other places I travel to downtown as well', 'Black Electric Townie bike in great condition. Great for cruising.', \"Only basket is damaged but there is nothing else wrong with it ... I'm only selling it because I have a car and I never use the bike. I bought it around Oct last year. I hardly even used it. It's ...\", 'Looking to buy a GIANT ESCAPE Bike in good to near mint condition. Mens Large Frame size preferred in grey or black. Please contact with price.', 'My black with yellow NORCO VFR hybrid bike was stolen from Bathurst and Wellington. 18\" frame, front brakes were missing. Recently added MEC ergonomic handle grips.', 'My black with yellow NORCO VFR hybrid bike was stolen from Bathurst and Wellington. 18\" frame, front brakes were missing. Recently added MEC ergonomic handle grips.', '1.【 One cable 】 The EEkit has only one wireless LCD display and one thumb throttle, no PAS and E brakes, but has the same function. You could connect one cable to convert a bike to an\\xa0e-bike. \\u20282. 【 ...', \"Reluctantly selling my beautiful bicycle as I'm moving overseas. Rides beautifully, recently gave it a minor tune up and oiled the chain etc. Medium size - I'm 175cm and it fits me perfectly. Single ...\", '$25 for all parts in the photo pick up at spadinaXcollege.', \"Men's mountain bike - decent condition , newer brake pads and freewheel chain and new brake cables - could use new gear cables and new tires , BUT is in current riding condiiton. M? Frame $90 OBO, if ...\", 'Too many bikes and too little space, so we have a Free Spirit for sale. Great commuter bike in good working order. Canadian made bike, fenders, rear rack.', 'Planet Bike Hi/Lo Pressure Suspension Pump. As long the add is on, the item is available. Located Downtown.', 'I have 4 bike, scooter or sport Helmets for kids. My kid got it for a birthday gift but was too small. Would fit kids ages 2-6 depending on head size. retails for $30 each + tax asking half price, $8 ...', \"5'6-5'10 frame 1970's English made Raleigh bike 3 speed internal hub Great bike, just needs tube replaced on the front tire which is an easy cheap fix\", \"I bought this bike a few weeks ago to go riding with my gf which has now been terminated(thank you jordan peterson:p) it's only been riden a couple times and it comes with a cushion seat and lock. ...\", 'Crown diameter is fairly standard so this could be used as an upgrade on many bikes with a tapered headset. Save a couple hundred grams on your steel or aluminium bike, and climb like a champ. ...', 'Mint condition Never used asking 500 or best offer', 'Almost brand new Razor Deemon Freestyle BMX Bike with 20\" wheel and Gyro Stem (allows 360 degree spins) Professionally assembled, used less than 5 times around the block and garage stored, so less a ...', 'Excellent condition', \"Great condition! Strada LX, 14 speed, shimano derailleurs. Handlebar tape is new, tires are only 1 season old, so they'll last a long time. Tuned up recently. Super light. A lot of fun to ride, but I ...\", 'suntour xcr 32 air 27.5+ or 29 wheel sizes 120mm travel 110mm boost axle tapered steerer 175mm pulled from brand new bike includes free headset', \"These are brand new, but I don't have the retail packaging. It is 80 for the pair (front and back), and they are short reach.\", 'Brand new Posted by Jamal in bikes, mountain in Toronto (GTA), City of Toronto. July 21, 2018', 'For sale is a beautiful CCM cruiser. Generally in good condition. Please notice that it has a broken spoke in the rear wheel. The bike is still in ridable condition and it can be fixed for around ...', 'For sale is a Minelli commuter bike. Fully functional, brake is performing well and shifting is on point. Feel free to ask if you have any questions. Note: Missing left hand grip.', 'Triumph Bike This bike is 21 speed', 'KHS team model road bike Excellent condition Lightly used Medium size frame As seen in picture', 'Bike in perfect condition. No needed anymore', 'My bike was stolen yesterday in front of the ROM. If anyone sees it please report it to the police ASAP. Thank you.', 'I\\'m looking for a vintage-style womens bike that will fit a 5\\'1\" frame. Looking for mint green or white bike (examples in photos). Willing to spend up to $200. Msg me with your best offer.', \"Men's city/mountain bike, red rim. Been taking good care. 3*7 speed, front and rear disk brake. Beginner suspension. Free Lock and Bell. Great for commute and fun! Very photogenic! Great Deal! Please ...\", 'For any recent Giant electric bike. The $3000 bike was just stolen so please buy this from me to appease my loss It is less than 3WEEKS old! # trek specialized Cannondale amego magnum haibike pedego ...', 'Selling my ccm mountain bike. Works perfect. Priced to sell Back shocks Front shocks Disc breaks 19’ tires', 'Mint condition no cracks or scratches 6479278681', 'Selling a pristine condition 2017 red specialized secteur sport road bike. Perfect for cycling at any level. Retails for $1300 at Wheels of Bloor (High Park) and they can verify purchase. Purchased ...', 'Great bike , flaws . Back wheel tube and tire need to be replaced. I need this gone ASAP . Msg me with your offers', 'Selling red evo speed bike. It is good condition. Tires are good. Comes with storage pouch. Great for riding in the city. Selling for $200.', 'Selling a full carbon road bike with full 11speed ultegra groupset slk carbon stem, slk carbon seat post compact ultegra crankset. Comes with 2 botle cage and ultegra spd pedal fizik saddle comes ...', 'Kids bikes for sale (2). Best offer takes them. I want them sold.', 'Concorde Europa road bike 21\" frame 3T mutant stem (127mm) (chain skips sometimes--rear hub needs minor work)', '-Man on subway line 1 towards Finch boarded downtown between Queen and Dundas had a bike locked to its own front tire around 2:30-3:15 in the afternoon on Wednesday July 18th. -The pedals were clip ...', \"I'm moving across the continent and I'm selling my retro Bianchi road bike. It's in fantastic shape. Owned it for 10 years. I think it's from the late 1970's or very early 1980's. Light weight frame ...\", \"Giant Anthem 1 cross country and trail mountain bike for sale. Excellent components. I'm moving across the continent and have to let some of my bikes go. This is an older version of this bike: ...\", 'Description * Steer Tube Length : 8\" * Total Length of Fork From Top of Steer Tube to wheel axle opening : 25.25\" * Steer Tube is not threaded * Caliper Brakes * One and One 8th inch steer tube ...', 'Looking to trade for a mountain bike, Xbox one games or anything interesting (or best offer). The fixie is in great shape and ready to ride home.', 'New Six Pack Care X-Bike Power ver. Total Body Gym Station Get fit and healthy in the comfort of your own home with this products - an all-in-one, multipurpose exercise equipment. 8 Different Work ...', '$25 Brand new never used Bamboo pattern helmet. Posted in bikes, clothing, shoes, accessories in City of Toronto. March 27, 2018', 'Gorgeous Italian bike - Carbon frame, Campagnolo Veloce /custom Wilier FSA bundle, Miche wheels. New spare parts - chains, cassettes, cables, new tires. tubes, a set of Zonda wheels are also for ...']\n"
     ]
    }
   ],
   "source": [
    "def listings(subject, con):\n",
    "    # Idk if this is injectable\n",
    "    sql_query = \"SELECT Description FROM {} WHERE delivery_method='Cesarean';\", subject\n",
    "    birth_data_from_sql = pd.read_sql_query(sql_query,con)\n",
    "    listings_file_csv = '../Kijiji-Scraper/plasma_tvs.csv'\n",
    "    #df = pd.read_csv(listings_file_csv)\n",
    "    listings_file_json = '../Kijiji-Scraper/bikes.json'\n",
    "    df = pd.read_json(listings_file_json, orient='index')\n",
    "    # Kijiji uids look like unix timestamps, and afaict there's no way do stop\n",
    "    # pandas interpreting them as such while using orient='index'\n",
    "    df.index = df.index.astype(np.int64) // 10**9\n",
    "    descs = [row['Description'] for _, row in df.iterrows()]\n",
    "    print(descs)\n",
    "\n",
    "listings('test')"
   ]
  },
  {
   "cell_type": "markdown",
   "metadata": {},
   "source": [
    "Initialize spacy with the largest English CNN\n",
    "\n",
    "https://spacy.io/models/en#en_core_web_lg"
   ]
  },
  {
   "cell_type": "code",
   "execution_count": 10,
   "metadata": {},
   "outputs": [],
   "source": [
    "import spacy\n",
    "nlp_full = spacy.load('en_core_web_lg')\n",
    "#nlp_tokenizer = spacy.load('en_core_web_lg', disable=['tagger'])"
   ]
  },
  {
   "cell_type": "code",
   "execution_count": 88,
   "metadata": {},
   "outputs": [],
   "source": [
    "listings_file_json = '../Kijiji-Scraper/plasma_tvs.json'\n",
    "my_subject = 'tv'\n",
    "df = pd.read_json(listings_file_json, orient='index')\n",
    "# Kijiji uids look like unix timestamps, and afaict there's no way do stop\n",
    "# pandas interpreting them as such while using orient='index'\n",
    "#df.index = df.index.astype(np.int64) // 10**9\n",
    "descs = [row['Description'] for _, row in df.iterrows()]"
   ]
  },
  {
   "cell_type": "code",
   "execution_count": 89,
   "metadata": {},
   "outputs": [],
   "source": [
    "def fix_capitalization(text):\n",
    "    '''This function lowercases sentences that are in all- or nearly-all-caps'''\n",
    "    sents = nl.tokenize.sent_tokenize(text)\n",
    "    # First, figure out if a sentence is mostly caps, vs lowers and digits\n",
    "    # Lowercasing mostly-caps sentences improves parsing, and using digits\n",
    "    #   helps avoid targeting model names with this heuristic\n",
    "    for i, sent in enumerate(sents):\n",
    "        words = nl.tokenize.word_tokenize(sent)\n",
    "        uppers = 0\n",
    "        lowers_digits = 0\n",
    "        for word in words:\n",
    "            for letter in word:\n",
    "                if letter.isupper():\n",
    "                    uppers += 1 \n",
    "                elif letter.islower() or letter.isdigit():\n",
    "                    lowers_digits += 1\n",
    "        if uppers > lowers_digits * 3:\n",
    "            #print('SHAME')\n",
    "            fixed_sent = sent.lower()\n",
    "            sents[i] = fixed_sent\n",
    "    return ' '.join(sents)"
   ]
  },
  {
   "cell_type": "markdown",
   "metadata": {},
   "source": [
    "Lowercase all-caps sentences then run the NLP pipeline"
   ]
  },
  {
   "cell_type": "code",
   "execution_count": 90,
   "metadata": {
    "scrolled": true
   },
   "outputs": [],
   "source": [
    "capcleaned_descs = [fix_capitalization(desc) for desc in descs]\n",
    "docs = [nlp_full(desc) for desc in capcleaned_descs]\n",
    "#capcleaned_descs"
   ]
  },
  {
   "cell_type": "code",
   "execution_count": 91,
   "metadata": {},
   "outputs": [],
   "source": [
    "tagged_words_spacy = []\n",
    "for doc in docs:\n",
    "    tagged_words_spacy.append([(token.text, token.tag_) for token in doc])\n",
    "    \n",
    "my_subject_lower = my_subject.lower()\n",
    "def is_brand_model_candidate(word, tag, subject_lower):\n",
    "    return tag in ['NNP'] and word.lower() != subject_lower\n",
    "brand_model_cands = []\n",
    "for sent in tagged_words_spacy:\n",
    "    brand_model_cands.append([word for (word, tag) in sent if is_brand_model_candidate(word, tag, my_subject_lower)])\n",
    "#brand_model_cands"
   ]
  },
  {
   "cell_type": "code",
   "execution_count": 92,
   "metadata": {},
   "outputs": [],
   "source": [
    "#print(brand_model_words)\n",
    "def generate_preferred_spelling_dict(words):\n",
    "    spellings = {}\n",
    "    for word in words:\n",
    "        word_lower = word.lower()\n",
    "        if word_lower in spellings:\n",
    "            spellings[word_lower].append(word)\n",
    "        else:\n",
    "            spellings[word_lower] = [word]\n",
    "    preferred_spellings = {}\n",
    "    for (word, spelling_cands) in spellings.items():\n",
    "        n_occurrences = len(spelling_cands)\n",
    "        preferred_spelling = max(set(spelling_cands), key=spelling_cands.count)\n",
    "        preferred_spellings[word] = (preferred_spelling, n_occurrences)\n",
    "    return preferred_spellings\n",
    "\n",
    "def generate_multiplicity_dict(words):\n",
    "    multiplicities = {}\n",
    "    for word in words:\n",
    "        if word not in multiplicities:\n",
    "            multiplicities[word] = words.count(word)\n",
    "    return multiplicities "
   ]
  },
  {
   "cell_type": "code",
   "execution_count": 93,
   "metadata": {
    "scrolled": true
   },
   "outputs": [],
   "source": [
    "listing_noun_phrases = []\n",
    "stop_tags = ['PRP', 'DT'] #'IN'\n",
    "for doc in docs:\n",
    "    #spans = [span for span in list(doc.noun_chunks) ]\n",
    "    #tokens = [(token, token.tag_) for span in spans for token in span]\n",
    "    #print(tokens)\n",
    "    noun_phrases = []\n",
    "    for np in doc.noun_chunks:\n",
    "        if np.root.tag_ not in stop_tags:\n",
    "            important_descriptors = [word for word in np if not word.tag_ in stop_tags and not word.text == np.root.text]\n",
    "            noun_phrases.append((important_descriptors, np.root.text))\n",
    "    listing_noun_phrases.append(noun_phrases)\n",
    "#listing_noun_phrases"
   ]
  },
  {
   "cell_type": "code",
   "execution_count": 94,
   "metadata": {},
   "outputs": [],
   "source": [
    "listing_noun_phrase_subjects = [np for listing in listing_noun_phrases for (descriptors, np) in listing]\n",
    "subject_preferred_spellings = generate_preferred_spelling_dict(listing_noun_phrase_subjects)\n",
    "popular_descriptors = list(subject_preferred_spellings.items())"
   ]
  },
  {
   "cell_type": "code",
   "execution_count": 95,
   "metadata": {},
   "outputs": [],
   "source": [
    "import hunspell\n",
    "hobj = hunspell.HunSpell('../dict/en_CA.dic', '../dict/en_CA.aff')\n",
    "brand_blacklist = []\n",
    "brand_whitelist = ['Panasonic', 'Samsung', 'Sharp', 'LG', 'Fujitsu', 'Philips', 'Sony', 'CCM', 'Norco', 'Raleigh', 'Shimano', 'Supercycle', 'Schwinn']\n",
    "def contains_number(string):\n",
    "     return any(char.isdigit() for char in string)\n",
    "# Most brand names don't contain numbers, but many model names do\n",
    "# Most brand names are not english words\n",
    "def find_likely_brand_names(brands):\n",
    "    whitelisted_brands = [brand for brand in brands if brand in brand_whitelist]\n",
    "    if whitelisted_brands: return whitelisted_brands\n",
    "    return [brand for brand in brands if not hobj.spell(brand) and not contains_number(brand)]\n",
    "    "
   ]
  },
  {
   "cell_type": "code",
   "execution_count": 96,
   "metadata": {},
   "outputs": [],
   "source": [
    "def cands_directly_describing_subject(cands, subj_descriptors):\n",
    "    return [cand for cand in cands if cand.lower() in subj_descriptors]"
   ]
  },
  {
   "cell_type": "code",
   "execution_count": 97,
   "metadata": {},
   "outputs": [],
   "source": [
    "# A dictionary of preferred spellings also contains word occurrence multiplicities\n",
    "def highest_multiplicity_cand(cands, preferred_spellings):\n",
    "    return max(cands, key=lambda cand: preferred_spellings[cand.lower()][1])"
   ]
  },
  {
   "cell_type": "code",
   "execution_count": 98,
   "metadata": {},
   "outputs": [],
   "source": [
    "brand_names = []\n",
    "flattened_cand_list = [cand for cands in brand_model_cands for cand in cands]\n",
    "preferred_brand_spellings = generate_preferred_spelling_dict(flattened_cand_list)\n",
    "for doc, brand_cands, nps in zip(\n",
    "    docs, brand_model_cands, listing_noun_phrases\n",
    "):\n",
    "    if not brand_cands:\n",
    "        brand_names.append('')\n",
    "        continue\n",
    "        \n",
    "    # See if one of the candidates is being used to directly describe the subject of\n",
    "    #   the listing, rather than some other noun in the listing.\n",
    "    subj_descriptors = [descriptors for (descriptors, subj) in nps if subj.lower() == my_subject_lower]\n",
    "    flattened_subj_descriptors = [x.text.lower() for y in subj_descriptors for x in y]\n",
    "    \n",
    "    top_cands = find_likely_brand_names(brand_cands)\n",
    "    if top_cands:\n",
    "        top_top_cands = cands_directly_describing_subject(top_cands, flattened_subj_descriptors)\n",
    "        if top_top_cands:\n",
    "            top_cand = highest_multiplicity_cand(top_top_cands, preferred_brand_spellings)\n",
    "        else:\n",
    "            top_cand = highest_multiplicity_cand(top_cands, preferred_brand_spellings)\n",
    "    else:\n",
    "        top_cands = [cand for cand in brand_cands if cand.lower() in flattened_subj_descriptors]\n",
    "        if top_cands:\n",
    "            top_cand = highest_multiplicity_cand(top_cands, preferred_brand_spellings)\n",
    "        else:\n",
    "            top_cand = highest_multiplicity_cand(brand_cands, preferred_brand_spellings)\n",
    "    \n",
    "    brand_names.append(preferred_brand_spellings[top_cand.lower()][0])\n",
    "#brand_names"
   ]
  },
  {
   "cell_type": "code",
   "execution_count": null,
   "metadata": {},
   "outputs": [],
   "source": []
  },
  {
   "cell_type": "code",
   "execution_count": 99,
   "metadata": {},
   "outputs": [],
   "source": [
    "popular_descriptors.sort(key=lambda desc: desc[1][1], reverse=True)\n",
    "#popular_descriptors"
   ]
  },
  {
   "cell_type": "code",
   "execution_count": 100,
   "metadata": {},
   "outputs": [],
   "source": [
    "popular_brands = [preferred_spelling for (key, preferred_spelling) in preferred_brand_spellings.items()]\n",
    "popular_brands.sort(key=lambda brand: brand[1], reverse=True)\n",
    "#popular_brands"
   ]
  },
  {
   "cell_type": "code",
   "execution_count": 101,
   "metadata": {},
   "outputs": [
    {
     "name": "stdout",
     "output_type": "stream",
     "text": [
      "tv:\n",
      "\tPlasma (16)\n",
      "\t\" (5)\n",
      "\tSamsung (3)\n",
      "\tyour (3)\n",
      "\tbroken (3)\n",
      "\tPanasonic (3)\n",
      "\tGreat (2)\n",
      "\tHD (2)\n",
      "condition:\n",
      "\tExcellent (7)\n",
      "\tGreat (4)\n",
      "\tgood (4)\n",
      "\tPerfect (3)\n",
      "\tmint (3)\n",
      "\tVery good (2)\n",
      "\tdecent (2)\n",
      "\tPlasma (2)\n",
      "plasma:\n",
      "\t\" (4)\n",
      "\tTV (2)\n",
      "\t42 (2)\n",
      "\tSamsung (2)\n",
      "\tHigh (2)\n",
      "\tdefinition (2)\n",
      "\t50 (2)\n",
      "\t1 (1)\n",
      "screen:\n",
      "\t\" (2)\n",
      "\t59.9 (1)\n",
      "\tglossy (1)\n",
      "\tPlasma - broken (1)\n",
      "\t/ (1)\n",
      "\tCracked (1)\n",
      "\t41.6 (1)\n",
      "\tTV (1)\n",
      "stand:\n",
      "\toriginal (2)\n",
      "\tTV (2)\n",
      "\ttechcraft (1)\n",
      "\tLCD / Plasma (1)\n",
      "\tIncludes (1)\n",
      "\trising (1)\n",
      "\tblack corner unit (1)\n",
      "\t7 (1)\n",
      "ad:\n",
      "\twhole (1)\n",
      "model:\n",
      "\tTV (3)\n",
      "\tPanasonic (3)\n",
      "\tSONY (1)\n",
      "\tWall (1)\n",
      "\tMount (1)\n",
      "\tBracket - ultra - sturdy (1)\n",
      "\theavy duty (1)\n",
      "\t51’ (1)\n",
      "ports:\n",
      "\tHDMI (6)\n",
      "\t2 (2)\n",
      "\tUSB (2)\n",
      "\tx 768 (2)\n",
      "\t4 (1)\n",
      "\t3 (1)\n",
      "\tDVI (1)\n",
      "remote:\n",
      "\tTV (2)\n",
      "\toriginal (2)\n",
      "\t60 (1)\n",
      "\t\" (1)\n",
      "\tLG (1)\n",
      "\tPlasma (1)\n",
      "\t1080p (1)\n",
      "\tHD (1)\n",
      "sale:\n",
      "\tfast (1)\n",
      "\tQuick (1)\n"
     ]
    }
   ],
   "source": [
    "most_popular_descriptors = [descriptor for (descriptor, _) in popular_descriptors[:10]]\n",
    "aggregate_indirect_descriptors = []\n",
    "indirect_descriptor_phrases = {descriptor:[] for descriptor in most_popular_descriptors}\n",
    "for listing in listing_noun_phrases:\n",
    "    for descriptors, subject in listing:\n",
    "        subject_lower = subject.lower()\n",
    "        if subject_lower in most_popular_descriptors:\n",
    "            subject_descriptions = []\n",
    "            description_buffer = []\n",
    "            for descriptor in descriptors:\n",
    "                #if len(descriptor.text) == 1 and re.findall('[^A-Za-z0-9]', descriptor.text): continue\n",
    "                description_buffer.append(descriptor.text)\n",
    "                aggregate_indirect_descriptors.append(descriptor.text)\n",
    "                #print(descriptor.text)\n",
    "                # If the descriptor directly modifies the subject of the NP, take it\n",
    "                # and all descriptors in the buffer (that presumably modify this new descriptor)\n",
    "                if descriptor.head.text == subject:\n",
    "                    subject_descriptions.append(description_buffer)\n",
    "                    description_buffer = []\n",
    "            indirect_descriptor_phrases[subject_lower].append(subject_descriptions)\n",
    "            \n",
    "            #print(subject)        \n",
    "            #print(subject_descriptions)\n",
    "            \n",
    "preferred_descriptor_spellings = generate_preferred_spelling_dict(aggregate_indirect_descriptors)\n",
    "#print(indirect_descriptor_phrases)\n",
    "# for subject, listings in indirect_descriptor_phrases.items():\n",
    "#     for i, listing in enumerate(listings):\n",
    "#         for j, description in enumerate(listing):\n",
    "#             print(description)\n",
    "#             for k, descriptor in enumerate(description):\n",
    "#                 #print(descriptor)\n",
    "#                 preferred_spelling = preferred_descriptor_spellings[descriptor.lower()][0]\n",
    "#                 if descriptor != preferred_spelling:\n",
    "#                     indirect_descriptor_phrases[subject][i][j][k] = preferred_spelling\n",
    "# print(indirect_descriptor_phrases)\n",
    "top_indirect_descriptors = {descriptor:[] for descriptor in most_popular_descriptors}\n",
    "for subject, listings in indirect_descriptor_phrases.items():\n",
    "    flattened_indirect_descriptor_phrase_list = []\n",
    "    for listing in listings:\n",
    "        for description in listing:\n",
    "            # This will unfortunately put spaces around hyphens, and that sort of thing\n",
    "            text_description = ' '.join([preferred_descriptor_spellings[descriptor.lower()][0] for descriptor in description])\n",
    "            flattened_indirect_descriptor_phrase_list.append(text_description)\n",
    "    preferred_descriptions = list(generate_multiplicity_dict(flattened_indirect_descriptor_phrase_list).items())\n",
    "    preferred_descriptions.sort(key=lambda desc: desc[1], reverse=True)\n",
    "    top_indirect_descriptors[subject] = preferred_descriptions\n",
    "\n",
    "for feature, descriptors in top_indirect_descriptors.items():\n",
    "    print(f'{feature}:')\n",
    "    for descriptor, mult in descriptors[:8]:\n",
    "        print(f'\\t{descriptor} ({mult})')"
   ]
  },
  {
   "cell_type": "code",
   "execution_count": 102,
   "metadata": {},
   "outputs": [
    {
     "name": "stdout",
     "output_type": "stream",
     "text": [
      "Plasma (27)\n",
      "Panasonic (26)\n",
      "Samsung (14)\n",
      "HDMI (13)\n",
      "LG (12)\n",
      "Model (8)\n",
      "Wall (8)\n",
      "Pioneer (8)\n",
      "LCD (7)\n",
      "Mount (5)\n",
      "Elite (5)\n",
      "Screen (4)\n",
      "HD (4)\n",
      "Smart (4)\n",
      "TC (4)\n"
     ]
    }
   ],
   "source": [
    "for brand, mult in popular_brands[:15]:\n",
    "    print(f'{brand} ({mult})')"
   ]
  },
  {
   "cell_type": "code",
   "execution_count": 103,
   "metadata": {},
   "outputs": [],
   "source": [
    "# for doc in docs[:3]:\n",
    "#     spacy.displacy.render(doc, style='dep', jupyter=True)\n",
    "#     print(doc)\n",
    "#     print(doc.ents)"
   ]
  },
  {
   "cell_type": "code",
   "execution_count": null,
   "metadata": {},
   "outputs": [],
   "source": []
  },
  {
   "cell_type": "code",
   "execution_count": null,
   "metadata": {},
   "outputs": [],
   "source": []
  },
  {
   "cell_type": "code",
   "execution_count": 104,
   "metadata": {},
   "outputs": [],
   "source": [
    "#descs"
   ]
  },
  {
   "cell_type": "code",
   "execution_count": 105,
   "metadata": {},
   "outputs": [],
   "source": [
    "# import hunspell\n",
    "# hobj = hunspell.HunSpell('/usr/share/hunspell/en_US.dic', '/usr/share/hunspell/en_US.aff')\n",
    "# brand_model_cands"
   ]
  },
  {
   "cell_type": "code",
   "execution_count": 106,
   "metadata": {},
   "outputs": [],
   "source": [
    "#testdoc = nlp_full('42x42 cm black cat')\n",
    "#spacy.displacy.render(testdoc, style='dep', jupyter = True)"
   ]
  },
  {
   "cell_type": "code",
   "execution_count": 107,
   "metadata": {},
   "outputs": [],
   "source": [
    "# vectorizer = sk.feature_extraction.text.CountVectorizer()"
   ]
  },
  {
   "cell_type": "code",
   "execution_count": 108,
   "metadata": {},
   "outputs": [],
   "source": [
    "# word_bag = vectorizer.fit_transform(important_words).toarray()\n",
    "# bag_words = vectorizer.get_feature_names()\n",
    "# # We don't care if a word appears multiple times in the same listing\n",
    "# for (index, single_listing_word_multiplicity) in np.ndenumerate(word_bag):\n",
    "#     if single_listing_word_multiplicity > 1: word_bag[index] = 1\n",
    "# aggregate_multiplicities = word_bag.sum(axis=0)\n",
    "# word_multiplicity = list(zip(bag_words, aggregate_multiplicities.tolist()))\n",
    "\n",
    "# #word_multiplicity = np.column_stack((bag_words, aggregate_multiplicities))"
   ]
  },
  {
   "cell_type": "code",
   "execution_count": 109,
   "metadata": {},
   "outputs": [],
   "source": [
    "# # https://stackoverflow.com/a/2828121\n",
    "# #def sort_words_by_multiplicity(words):\n",
    "# #    return words[words[:,1].argsort()]\n",
    "\n",
    "# #sorted_words = sort_words_by_multiplicity(word_multiplicity)\n",
    "# #sorted_words = sorted_words[::-1]\n",
    "# #sorted_words[:30]\n",
    "\n",
    "# word_multiplicity.sort(key=lambda word_multiplicity: word_multiplicity[1])\n",
    "# word_multiplicity[::-1]"
   ]
  },
  {
   "cell_type": "code",
   "execution_count": null,
   "metadata": {},
   "outputs": [],
   "source": []
  },
  {
   "cell_type": "code",
   "execution_count": 110,
   "metadata": {},
   "outputs": [],
   "source": [
    "# def tag_words(text):\n",
    "#       tokens = nl.word_tokenize(text)\n",
    "#       return nl.pos_tag(tokens)"
   ]
  },
  {
   "cell_type": "code",
   "execution_count": 111,
   "metadata": {},
   "outputs": [],
   "source": [
    "# def ner_words(text):\n",
    "#       tokens = nl.word_tokenize(text)\n",
    "#       return nl.chunk.ne_chunk(tokens)"
   ]
  },
  {
   "cell_type": "code",
   "execution_count": 112,
   "metadata": {},
   "outputs": [],
   "source": [
    "# chunked_words = [nl.chunk.ne_chunk(desc) for desc in tagged_words]\n",
    "# chunked_words"
   ]
  },
  {
   "cell_type": "code",
   "execution_count": 113,
   "metadata": {
    "scrolled": true
   },
   "outputs": [],
   "source": [
    "# #print(brand_model_cands)\n",
    "# treated_words = set()\n",
    "# spellings = {}\n",
    "# for listing_cands in brand_model_cands:\n",
    "#     for cand in listing_cands:\n",
    "#         cand_lower = cand.lower()\n",
    "#         if cand.lower() in spellings:\n",
    "#             spellings[cand_lower].append(cand)\n",
    "#         else:\n",
    "#             spellings[cand_lower] = [cand]\n",
    "# spellings"
   ]
  },
  {
   "cell_type": "code",
   "execution_count": 114,
   "metadata": {},
   "outputs": [],
   "source": [
    "#preferred_spellings = {}\n",
    "#single_spellings = set()\n",
    "#for (word, spelling_cands) in spellings.items():\n",
    "#    n_occurrences = len(spelling_cands)\n",
    "#    preferred_spelling = max(set(spelling_cands), key=spelling_cands.count)\n",
    "#    preferred_spellings[word] = (preferred_spelling, n_occurrences)\n",
    "# preferred_spellings"
   ]
  }
 ],
 "metadata": {
  "kernelspec": {
   "display_name": "Python 3",
   "language": "python",
   "name": "python3"
  },
  "language_info": {
   "codemirror_mode": {
    "name": "ipython",
    "version": 3
   },
   "file_extension": ".py",
   "mimetype": "text/x-python",
   "name": "python",
   "nbconvert_exporter": "python",
   "pygments_lexer": "ipython3",
   "version": "3.6.6"
  }
 },
 "nbformat": 4,
 "nbformat_minor": 2
}
